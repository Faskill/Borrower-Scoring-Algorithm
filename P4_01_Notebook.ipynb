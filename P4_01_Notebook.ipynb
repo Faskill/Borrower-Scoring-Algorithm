version https://git-lfs.github.com/spec/v1
oid sha256:b12bd058375dca82c99a637cae409a9c8b96e0c1f9325b3a58d98a8e3e3ce70c
size 103586
