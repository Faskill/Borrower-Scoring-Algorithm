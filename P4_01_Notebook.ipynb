{
 "cells": [
  {
   "cell_type": "markdown",
   "id": "0dc887fa",
   "metadata": {},
   "source": [
    "# Developping a Borrower Scoring Algorithm\n",
    "\n",
    "Last updated : September 25th, 2022\n",
    "\n",
    "## Introduction\n",
    "\n",
    "During this project, I will use a dataset provided by a consumer finance companies to develop a machine learning algorithm that will predict if the borrower will have payment difficulties or not.\n",
    "\n",
    "## 1. Data Loading and Filtering\n",
    "\n",
    "First we will load the necessary packages and dataset and then we will carry on with the Cleaning and Analysis.\n",
    "\n",
    "### 1.1 Loading our packages\n",
    "\n",
    "We will import the necessary packages to run this project: matplotlib, numpy, pandas, seaborn.\n",
    "Since I am running the project on Windows, I will also use sklearnex to increase the speed of sklearn."
   ]
  },
  {
   "cell_type": "code",
   "execution_count": 1,
   "id": "16e59e62",
   "metadata": {},
   "outputs": [
    {
     "name": "stderr",
     "output_type": "stream",
     "text": [
      "Intel(R) Extension for Scikit-learn* enabled (https://github.com/intel/scikit-learn-intelex)\n"
     ]
    }
   ],
   "source": [
    "#Importing packages\n",
    "import matplotlib.pyplot as plt\n",
    "import numpy as np\n",
    "import pandas as pd\n",
    "import seaborn as sns\n",
    "#Setting large figure size for Seaborn\n",
    "sns.set(rc={'figure.figsize':(11.7,8.27),\"font.size\":20,\"axes.titlesize\":20,\"axes.labelsize\":18})\n",
    "\n",
    "#Importing Intel extension for sklearn to improve speed\n",
    "from sklearnex import patch_sklearn\n",
    "patch_sklearn()"
   ]
  },
  {
   "cell_type": "markdown",
   "id": "219e7df6",
   "metadata": {},
   "source": [
    "### 1.2 Loading the dataset\n",
    "\n",
    "We will now load the dataset"
   ]
  },
  {
   "cell_type": "code",
   "execution_count": 2,
   "id": "5dede469",
   "metadata": {},
   "outputs": [],
   "source": [
    "# app_test = pd.read_csv(\"Data/application_test.csv\", sep=\",\")\n",
    "# app = pd.read_csv(\"Data/application_train.csv\", sep=\",\")\n",
    "\n",
    "# app.head()"
   ]
  },
  {
   "cell_type": "markdown",
   "id": "f1a35290",
   "metadata": {},
   "source": [
    "## 2. Data Preparation\n",
    "\n",
    "We will now clean our dataset.\n",
    "\n",
    "### 2.1 Cleaning categorical variables\n",
    "\n",
    "We will begin the cleaning process by cleaning categorical variables."
   ]
  },
  {
   "cell_type": "code",
   "execution_count": 3,
   "id": "b9354b41",
   "metadata": {},
   "outputs": [],
   "source": [
    "# Increasing maximum number of info rows \n",
    "pd.options.display.max_info_columns = 130\n",
    "\n",
    "\n",
    "# #Looking at unique valeus of categorical variables\n",
    "# def investigate_categories(df: pd.DataFrame):\n",
    "#     for c in df.columns:\n",
    "#         if df[c].dtype == 'object':\n",
    "#             print(\"Column\",c)\n",
    "#             print(\"Unique values: {}\".format(df[c].unique()))\n",
    "#             print(\"\")\n",
    "#             print(\"-----------------------------------\")\n",
    "            \n",
    "# investigate_categories(app)"
   ]
  },
  {
   "cell_type": "code",
   "execution_count": 4,
   "id": "152ac3f6",
   "metadata": {},
   "outputs": [],
   "source": [
    "# #Investigating \"XNA\" values in GENDER\n",
    "# app[app[\"CODE_GENDER\"] == 'XNA']\n",
    "# #Only 4 rows\n",
    "\n",
    "# #Let's look at the test data\n",
    "# app_test[app_test[\"CODE_GENDER\"] == 'XNA']\n",
    "# #0 row\n",
    "\n",
    "# #We will replace with the mode\n",
    "# app[\"CODE_GENDER\"] = app[\"CODE_GENDER\"].fillna(app[\"CODE_GENDER\"].mode())"
   ]
  },
  {
   "cell_type": "code",
   "execution_count": 5,
   "id": "e8ca7c5d",
   "metadata": {},
   "outputs": [],
   "source": [
    "# #Investigating \"XNA\" values in ORGANIZATION_TYPE\n",
    "# app[app[\"ORGANIZATION_TYPE\"] == 'XNA']\n",
    "# #55374 rows\n",
    "\n",
    "# app[app[\"ORGANIZATION_TYPE\"] == 'XNA'][\"TARGET\"].value_counts(normalize=True)\n",
    "# #Significant deviation from the normal percentages, so it is interesting to keep these values\n",
    "\n",
    "# #They will be encoded during the feature engineering part of the project"
   ]
  },
  {
   "cell_type": "code",
   "execution_count": 6,
   "id": "3ec0994b",
   "metadata": {},
   "outputs": [],
   "source": [
    "# #Looking at \"nan\" values in EMERGENCYSTATE_MODE\n",
    "# print(len(app[app[\"EMERGENCYSTATE_MODE\"].isna()]))\n",
    "\n",
    "# app[app[\"EMERGENCYSTATE_MODE\"].isna()][\"TARGET\"].value_counts(normalize=True)\n",
    "# #Here it represents about half our dataset, we will create a \"NA\" variable as well since there is a small deviation from what\n",
    "# #We would have expected\n",
    "\n",
    "# app.loc[app[\"EMERGENCYSTATE_MODE\"].isna(),\"EMERGENCYSTATE_MODE\"] = 'UKN'"
   ]
  },
  {
   "cell_type": "code",
   "execution_count": 7,
   "id": "602bee15",
   "metadata": {},
   "outputs": [],
   "source": [
    "# #Looking at \"nan\" values in OCCUPATION TYPE\n",
    "# print(len(app[app[\"OCCUPATION_TYPE\"].isna()]))\n",
    "\n",
    "# app[app[\"OCCUPATION_TYPE\"].isna()][\"TARGET\"].value_counts(normalize=True)\n",
    "# #Here it represents about a third of our dataset, we will create a \"NA\" variable as well since there is a deviation from what\n",
    "# #we would have expected\n",
    "\n",
    "# app.loc[app[\"OCCUPATION_TYPE\"].isna(),\"OCCUPATION_TYPE\"] = 'UKN'"
   ]
  },
  {
   "cell_type": "code",
   "execution_count": 8,
   "id": "ec06962e",
   "metadata": {},
   "outputs": [],
   "source": [
    "# #Looking at \"nan\" values in NAME_TYPE_SUITE\n",
    "# print(len(app[app[\"NAME_TYPE_SUITE\"].isna()]))\n",
    "# #Only 1292 NA values\n",
    "\n",
    "# #We will replace these rows by the mode\n",
    "# app[\"NAME_TYPE_SUITE\"] = app[\"NAME_TYPE_SUITE\"].fillna(app[\"NAMLE_TYPE_SUITE\"].mode())"
   ]
  },
  {
   "cell_type": "code",
   "execution_count": 9,
   "id": "4bffbad2",
   "metadata": {},
   "outputs": [],
   "source": [
    "# #We can see that WEEKDAY_APPR_PROCESS_START is coded as a string\n",
    "\n",
    "# import time\n",
    "# #Let's convert it into week day number\n",
    "# app[\"WEEKDAY_APPR_PROCESS_START\"] = app[\"WEEKDAY_APPR_PROCESS_START\"].apply(lambda x: time.strptime(x, '%A').tm_wday)"
   ]
  },
  {
   "cell_type": "code",
   "execution_count": 10,
   "id": "296c309d",
   "metadata": {},
   "outputs": [],
   "source": [
    "# #Verifying that we've dealt with all missing values of categorical variables\n",
    "# for c in app.columns:\n",
    "#     if app[c].dtype == 'object':\n",
    "#         print(app[c].isna().sum().sum())"
   ]
  },
  {
   "cell_type": "code",
   "execution_count": 11,
   "id": "38c8b31a",
   "metadata": {},
   "outputs": [],
   "source": [
    "import time\n",
    "\n",
    "#Summarizing preprocessing of categorical variables\n",
    "def preprocess_cat_vars(df: pd.DataFrame):\n",
    "\n",
    "    df[\"CODE_GENDER\"] = df[\"CODE_GENDER\"].fillna(df[\"CODE_GENDER\"].mode())\n",
    "\n",
    "    df.loc[df[\"EMERGENCYSTATE_MODE\"].isna(),\"EMERGENCYSTATE_MODE\"] = 'UKN'\n",
    "\n",
    "    df.loc[df[\"OCCUPATION_TYPE\"].isna(),\"OCCUPATION_TYPE\"] = 'UKN'\n",
    "\n",
    "    df[\"NAME_TYPE_SUITE\"] = df[\"NAME_TYPE_SUITE\"].fillna(df[\"NAME_TYPE_SUITE\"].mode())\n",
    "\n",
    "    #Let's convert it into week day number\n",
    "    df[\"WEEKDAY_APPR_PROCESS_START\"] = df[\"WEEKDAY_APPR_PROCESS_START\"].apply(lambda x: time.strptime(x, '%A').tm_wday)\n",
    "    \n",
    "    #Replacing 0 values in categorical fields by nan\n",
    "    for c in [\"FONDKAPREMONT_MODE\", \"HOUSETYPE_MODE\", \"WALLSMATERIAL_MODE\"]:\n",
    "        df.loc[df[c] == 0, c] = np.nan\n",
    "    \n",
    "    return df\n",
    "        "
   ]
  },
  {
   "cell_type": "markdown",
   "id": "f41d158d",
   "metadata": {},
   "source": [
    "We have finished cleaning up categorical variables, now we will look at numeric variables \n",
    "\n",
    "### 2.2 Cleaning numeric variables "
   ]
  },
  {
   "cell_type": "code",
   "execution_count": 12,
   "id": "ae177e31",
   "metadata": {},
   "outputs": [],
   "source": [
    "#Looking for outliers \n",
    "\n",
    "#Increasing the number of maximum columns shown\n",
    "pd.options.display.max_columns = 100\n",
    "#app.describe()"
   ]
  },
  {
   "cell_type": "code",
   "execution_count": 13,
   "id": "9467e58c",
   "metadata": {},
   "outputs": [],
   "source": [
    "# #DAYS_BIRTH, DAYS_REGISTRATION and DAYS_ID_PUBLISH only have negative values\n",
    "# app[\"DAYS_REGISTRATION\"] = abs(app[\"DAYS_REGISTRATION\"])\n",
    "# app[\"DAYS_ID_PUBLISH\"] = abs(app[\"DAYS_ID_PUBLISH\"])\n",
    "# app[\"DAYS_BIRTH\"] = abs(app[\"DAYS_BIRTH\"])\n",
    "\n",
    "# #DAYS EMPLOYED have abherrent values (365243 days, about 1000 years)\n",
    "# app.loc[app[\"DAYS_EMPLOYED\"] > 100000, \"DAYS_EMPLOYED\"] = np.nan\n",
    "# app[\"DAYS_EMPLOYED\"] = abs(app[\"DAYS_EMPLOYED\"])\n",
    "\n",
    "# print(app[\"DAYS_BIRTH\"].min()/365, app[\"DAYS_BIRTH\"].max()/365)\n",
    "# #No outlier data, from 20 to 69 years\n",
    "\n",
    "# def label_age(days_birth):\n",
    "#     age_years = days_birth / 365\n",
    "#     if age_years < 30: return 1\n",
    "#     elif age_years < 40: return 2\n",
    "#     elif age_years < 50: return 3\n",
    "#     elif age_years < 60: return 4\n",
    "#     elif age_years < 70: return 5\n",
    "#     else: return 0\n",
    "    \n",
    "# app[\"AGE_LABEL\"] = app[\"DAYS_BIRTH\"].apply(lambda x: label_age(x))\n",
    "\n",
    "# app = app[app['AMT_INCOME_TOTAL'] < 20000000] # remove an outlier (117 million)\n",
    "\n",
    "# # Calculated features\n",
    "# app['DAYS_EMPLOYED_PCT'] = app['DAYS_EMPLOYED'] / app['DAYS_BIRTH']\n",
    "# app['INCOME_CREDIT_PCT'] = app['AMT_INCOME_TOTAL'] / app['AMT_CREDIT']\n",
    "# app['INCOME_PER_PERSON'] = app['AMT_INCOME_TOTAL'] / app['CNT_FAM_MEMBERS']\n",
    "# app['ANNUITY_INCOME_PCT'] = app['AMT_ANNUITY'] / app['AMT_INCOME_TOTAL']\n",
    "# app['PAYMENT_RATE'] = app['AMT_ANNUITY'] / app['AMT_CREDIT']"
   ]
  },
  {
   "cell_type": "code",
   "execution_count": 14,
   "id": "fa11805e",
   "metadata": {},
   "outputs": [],
   "source": [
    "# app.describe()"
   ]
  },
  {
   "cell_type": "code",
   "execution_count": 15,
   "id": "bcc2fedd",
   "metadata": {},
   "outputs": [],
   "source": [
    "# #Turning SK_ID_CURR into an ID field :\n",
    "# app.set_index('SK_ID_CURR', inplace=True)\n",
    "\n",
    "# app.head()"
   ]
  },
  {
   "cell_type": "markdown",
   "id": "622e7a43",
   "metadata": {},
   "source": [
    "Analysis of the describe() output shows that there is **no clear outlier** in the rest of the numeric data. We can now start handling missing values."
   ]
  },
  {
   "cell_type": "code",
   "execution_count": 16,
   "id": "5e5d2f1a",
   "metadata": {},
   "outputs": [],
   "source": [
    "# len(app.columns[app.isnull().any()])\n",
    "# #21 columns with NA values\n",
    "\n",
    "# #Dropping rows with more than 50% na values\n",
    "# def drop_na_rows(df: pd.DataFrame, pct: float):\n",
    "#     n = len(df.columns)\n",
    "#     cutoff = n*pct/100 \n",
    "#     df = df[df.isna().sum(axis=1) > cutoff]\n",
    "\n",
    "# drop_na_rows(app, 50)\n",
    "#No row was removed\n"
   ]
  },
  {
   "cell_type": "code",
   "execution_count": 17,
   "id": "3d9c8415",
   "metadata": {},
   "outputs": [],
   "source": [
    "#Summarizing cleaning of numeric variables:\n",
    "\n",
    "def preprocess_num_vars(df: pd.DataFrame,\n",
    "                        quantiles=[25650.0,81000.0,99000.0,112500.0,135000.0,147150.0,162000.0,180000.0,225000.0,270000.0,117000000.0]):\n",
    "    #Setting index\n",
    "    data = df.copy()\n",
    "    data.set_index('SK_ID_CURR', inplace=True)\n",
    "    \n",
    "    #DAYS_BIRTH, DAYS_REGISTRATION and DAYS_ID_PUBLISH only have negative values\n",
    "    data[\"DAYS_REGISTRATION\"] = abs(data[\"DAYS_REGISTRATION\"])\n",
    "    data[\"DAYS_ID_PUBLISH\"] = abs(data[\"DAYS_ID_PUBLISH\"])\n",
    "    data[\"DAYS_BIRTH\"] = abs(data[\"DAYS_BIRTH\"])\n",
    "\n",
    "    #DAYS EMPLOYED have abherrent values (365243 days, about 1000 years)\n",
    "    data[\"DAYS_EMPLOYED_ANOM_FLAG\"] = 0 #Creating anomaly flag\n",
    "    data.loc[data[\"DAYS_EMPLOYED\"] > 100000, \"DAYS_EMPLOYED_ANOM_FLAG\"] = 1 \n",
    "    data.loc[data[\"DAYS_EMPLOYED\"] > 100000, \"DAYS_EMPLOYED\"] = np.nan\n",
    "    data[\"DAYS_EMPLOYED\"] = abs(data[\"DAYS_EMPLOYED\"])\n",
    "\n",
    "    def label_age(days_birth):\n",
    "        age_years = days_birth / 365\n",
    "        if age_years < 30: return 1\n",
    "        elif age_years < 40: return 2\n",
    "        elif age_years < 50: return 3\n",
    "        elif age_years < 60: return 4\n",
    "        elif age_years < 70: return 5\n",
    "        else: return 0\n",
    "\n",
    "    data[\"AGE_LABEL\"] = data[\"DAYS_BIRTH\"].apply(lambda x: label_age(x))\n",
    "\n",
    "    data = data[data['AMT_INCOME_TOTAL'] < 20000000] # remove an outlier (117 million)\n",
    "\n",
    "    \n",
    "    data[\"AMT_INCOME_BIN\"] = pd.cut(data[\"AMT_INCOME_TOTAL\"], bins=quantiles, labels=False)\n",
    "\n",
    "    # Calculated features\n",
    "    data['DAYS_EMPLOYED_PCT'] = data['DAYS_EMPLOYED'] / data['DAYS_BIRTH']\n",
    "    data['INCOME_CREDIT_PCT'] = data['AMT_INCOME_TOTAL'] / data['AMT_CREDIT']\n",
    "    data['INCOME_PER_PERSON'] = data['AMT_INCOME_TOTAL'] / data['CNT_FAM_MEMBERS']\n",
    "    data['ANNUITY_INCOME_PCT'] = data['AMT_ANNUITY'] / data['AMT_INCOME_TOTAL']\n",
    "    data['PAYMENT_RATE'] = data['AMT_ANNUITY'] / data['AMT_CREDIT']\n",
    "    \n",
    "    return data\n"
   ]
  },
  {
   "cell_type": "markdown",
   "id": "dcdf2193",
   "metadata": {},
   "source": [
    "We have verified that all of our 3 sets are composed only of numeric features and that they have the same number of columns.\n",
    "\n",
    "We will now use **additional features from other dataframes** to increase the performance of our models.\n",
    "\n",
    "### 2.3 Using previous application data"
   ]
  },
  {
   "cell_type": "code",
   "execution_count": 18,
   "id": "10bb0335",
   "metadata": {},
   "outputs": [],
   "source": [
    "# prev_app = pd.read_csv(\"Data/previous_application.csv\", sep=\",\")\n",
    "\n",
    "# prev_app.info()"
   ]
  },
  {
   "cell_type": "code",
   "execution_count": 19,
   "id": "1df49509",
   "metadata": {},
   "outputs": [],
   "source": [
    "# prev_app.describe()"
   ]
  },
  {
   "cell_type": "code",
   "execution_count": 20,
   "id": "d7722b97",
   "metadata": {},
   "outputs": [],
   "source": [
    "# #We are interested in DAYS_LAST_DUE (the number of days the borrower has to pay previous applications)\n",
    "# #But there are illogical values (365243 which is equal to 1000 years)\n",
    "# #First we'll replace all the values by nan\n",
    "# prev_app.loc[prev_app.DAYS_LAST_DUE > 300000, \"DAYS_LAST_DUE\"] = np.nan\n",
    "# prev_app.loc[prev_app.DAYS_FIRST_DUE > 300000, \"DAYS_FIRST_DUE\"] = np.nan\n",
    "# prev_app.loc[prev_app.DAYS_LAST_DUE_1ST_VERSION > 300000, \"DAYS_LAST_DUE_1ST_VERSION\"] = np.nan\n",
    "# prev_app.loc[prev_app.DAYS_FIRST_DRAWING > 300000, \"DAYS_FIRST_DRAWING\"] = np.nan\n",
    "# prev_app.loc[prev_app.DAYS_TERMINATION > 300000, \"DAYS_TERMINATION\"] = np.nan\n",
    "\n",
    "# #Defining current amount due, we have to add a negative sign because DAYS_LAST_DUE is negative\n",
    "# prev_app[\"AMT_CURR_DUE\"] = -prev_app[\"AMT_ANNUITY\"]*prev_app[\"DAYS_LAST_DUE\"]/365\n",
    "\n",
    "# prev_app[\"CURR_ANNUITY\"] = 0\n",
    "# prev_app.loc[prev_app[\"DAYS_LAST_DUE\"] < 0, \"CURR_ANNUITY\"] = prev_app[\"AMT_ANNUITY\"]\n",
    "\n",
    "# # Calculated variables\n",
    "# prev_app['APPLICATION_CREDIT_DIF'] = prev_app['AMT_APPLICATION'] - prev_app['AMT_CREDIT']\n",
    "# prev_app['CREDIT_TO_ANNUITY'] = prev_app['AMT_CREDIT'] / prev_app['AMT_ANNUITY']\n",
    "# prev_app['DOWN_PAYMENT_TO_CREDIT'] = prev_app['AMT_DOWN_PAYMENT'] / prev_app['AMT_CREDIT']\n",
    "\n",
    "# prev_app.head()"
   ]
  },
  {
   "cell_type": "code",
   "execution_count": 21,
   "id": "688c8709",
   "metadata": {},
   "outputs": [],
   "source": [
    "# #Verifying unique values of contract status\n",
    "# prev_app.NAME_CONTRACT_STATUS.unique()\n",
    "# #4 categories, Approved, Refused, Canceled and Unused offer\n",
    "\n",
    "# prev_app[\"AMT_GRANTED\"] = 0\n",
    "# prev_app.loc[prev_app[\"NAME_CONTRACT_STATUS\"] == \"Approved\", \"AMT_GRANTED\"] = prev_app[\"AMT_CREDIT\"]\n",
    "\n",
    "# prev_app.head()"
   ]
  },
  {
   "cell_type": "code",
   "execution_count": 22,
   "id": "f8326702",
   "metadata": {},
   "outputs": [],
   "source": [
    "# aggregations = {\n",
    "#         'AMT_ANNUITY': ['std', 'mean', 'sum'],\n",
    "#         'AMT_APPLICATION': ['std', 'mean', 'sum'],\n",
    "#         'AMT_CREDIT': ['std', 'mean', 'sum'],\n",
    "#         'AMT_CURR_DUE': ['std', 'mean', 'sum'],\n",
    "#         'CURR_ANNUITY': ['std', 'mean', 'sum'],\n",
    "#         'AMT_DOWN_PAYMENT': ['std', 'mean', 'sum'],\n",
    "#         'AMT_GOODS_PRICE': ['std', 'mean', 'sum'],\n",
    "#         'HOUR_APPR_PROCESS_START': ['std', 'mean'],\n",
    "#         'RATE_DOWN_PAYMENT': ['min', 'max', 'mean'],\n",
    "#         'DAYS_DECISION': ['std', 'mean', 'sum'],\n",
    "#         'CNT_PAYMENT': ['mean', 'sum','std'],\n",
    "#         'SK_ID_PREV': ['nunique'],\n",
    "#         'DAYS_TERMINATION': ['mean', 'sum', 'std'],\n",
    "#         'DOWN_PAYMENT_TO_CREDIT': ['sum', 'mean', 'std']\n",
    "#     }\n",
    "\n",
    "# #We will aggregate by SK_ID_CURR and retrieve important information about previous applications :\n",
    "# prev_app_numbers = prev_app.groupby(\"SK_ID_CURR\").agg(aggregations)\n",
    "\n",
    "# #Renaming columns to remove multi indexing\n",
    "# prev_app_numbers.columns = pd.Index(['APP' + '_' + e[0] + '_' + e[1] for e in prev_app_numbers.columns])\n",
    "\n",
    "# prev_app_numbers.head()"
   ]
  },
  {
   "cell_type": "code",
   "execution_count": 23,
   "id": "0969f77a",
   "metadata": {},
   "outputs": [],
   "source": [
    "# #Creating a dataframe with the number of each different name contract status by SK_ID_CURR\n",
    "# prev_app_status = pd.crosstab(prev_app['SK_ID_CURR'], prev_app['NAME_CONTRACT_STATUS'])\n",
    "\n",
    "# cols = [\"N_PREV_APPROVED\",\"N_PREV_CANCELED\",\"N_PREV_REFUSED\",\"N_PREV_UNUSED\"]\n",
    "# prev_app_status.columns = cols\n",
    "\n",
    "# #Importing the number of unique applications from prev_app_numbers\n",
    "# prev_app_status = pd.merge(prev_app_status, prev_app_numbers[[\"APP_SK_ID_PREV_nunique\"]],\n",
    "#                            how=\"inner\", left_index=True, right_index=True)\n",
    "\n",
    "# for c in cols:\n",
    "#     prev_app_status[c] = prev_app_status[c] / prev_app_status[\"APP_SK_ID_PREV_nunique\"]\n",
    "\n",
    "# prev_app_status = prev_app_status.drop(columns={\"APP_SK_ID_PREV_nunique\"})\n",
    "# prev_app_status.head()"
   ]
  },
  {
   "cell_type": "code",
   "execution_count": 24,
   "id": "221260cb",
   "metadata": {},
   "outputs": [],
   "source": [
    "# prev_app_df = pd.merge(prev_app_numbers, prev_app_status, how='inner', left_index=True, right_index=True)\n",
    "\n",
    "# prev_app_df.head()"
   ]
  },
  {
   "cell_type": "code",
   "execution_count": 25,
   "id": "df098c43",
   "metadata": {},
   "outputs": [],
   "source": [
    "# #Saving prev_app_df to prevent RAM usage and reduce rerun time\n",
    "# prev_app_df.to_csv(\"Data/prev_app_df.csv\")"
   ]
  },
  {
   "cell_type": "code",
   "execution_count": 26,
   "id": "bcbab37b",
   "metadata": {},
   "outputs": [],
   "source": [
    "def load_prev_app_info(X_train, test_set=False, X_test=None, X_val=None, validation_set=False):\n",
    "\n",
    "    #Joining this new data and filling NAs with 0 (since it means there was no previous application)\n",
    "    X_train = pd.merge(X_train, prev_app_df, how='left', left_index=True, right_index=True)\n",
    "    if not test_set:\n",
    "        return X_train\n",
    "    else:\n",
    "        X_test = pd.merge(X_test, prev_app_df, how='left', left_index=True, right_index=True)\n",
    "    if validation_set:\n",
    "        X_val = pd.merge(X_val, prev_app_df, how='left', left_index=True, right_index=True)\n",
    "        return X_train, X_test, X_val\n",
    "    return X_train, X_test\n"
   ]
  },
  {
   "cell_type": "markdown",
   "id": "002ebb22",
   "metadata": {},
   "source": [
    "### 2.4 Using Credit Bureau information\n",
    "\n",
    "We also have information about CB for each borrower that we can use to increase the accuracy of our model:"
   ]
  },
  {
   "cell_type": "code",
   "execution_count": 27,
   "id": "99e28b75",
   "metadata": {},
   "outputs": [],
   "source": [
    "# bureau = pd.read_csv(\"Data/bureau.csv\", sep=\",\")\n",
    "\n",
    "# bureau.info()"
   ]
  },
  {
   "cell_type": "code",
   "execution_count": 28,
   "id": "bc29681f",
   "metadata": {},
   "outputs": [],
   "source": [
    "# bureau.describe()"
   ]
  },
  {
   "cell_type": "code",
   "execution_count": 29,
   "id": "724001f9",
   "metadata": {},
   "outputs": [],
   "source": [
    "#print(bureau.CREDIT_ACTIVE.unique())\n",
    "# print(bureau.CREDIT_CURRENCY.unique())\n",
    "\n",
    "# len(bureau[bureau.CREDIT_CURRENCY.isna()])\n",
    "# #Credit active is interesting because of the bad debt field\n",
    "# #Currency is also interesting because it could be an indicator to fraudulent transactions"
   ]
  },
  {
   "cell_type": "code",
   "execution_count": 30,
   "id": "a5478dfc",
   "metadata": {},
   "outputs": [],
   "source": [
    "# #Calculating new features\n",
    "\n",
    "# #Date differences\n",
    "# bureau['CREDIT_DURATION'] = -bureau['DAYS_CREDIT'] + bureau['DAYS_CREDIT_ENDDATE']\n",
    "# bureau['ENDDATE_DIF'] = bureau['DAYS_CREDIT_ENDDATE'] - bureau['DAYS_ENDDATE_FACT']\n",
    "\n",
    "# #Day overdue flags:\n",
    "# bureau['BUREAU_IS_DPD'] = bureau['CREDIT_DAY_OVERDUE'].apply(lambda x: 1 if x > 0 else 0)\n",
    "# bureau['BUREAU_IS_DPD_OVER100'] = bureau['CREDIT_DAY_OVERDUE'].apply(lambda x: 1 if x > 100 else 0)\n",
    "                                                                     \n",
    "# #Debt ratio                                                         \n",
    "# bureau['BUREAU_CREDIT_DEBT_RATIO'] = bureau['AMT_CREDIT_SUM_DEBT'] / bureau['AMT_CREDIT_SUM']\n",
    "\n",
    "\n",
    "# #We will now aggreagte over SK_ID_CURR to calculate relevant numeric features \n",
    "\n",
    "# aggregations = {\n",
    "#         'DAYS_CREDIT': ['sum', 'mean', 'std'],\n",
    "#         'DAYS_CREDIT_ENDDATE': ['sum', 'mean', 'std'],\n",
    "#         'CREDIT_DAY_OVERDUE': ['min', 'max', 'sum','mean', 'std'],\n",
    "#         'AMT_CREDIT_MAX_OVERDUE': ['min', 'max', 'sum', 'mean', 'std'],\n",
    "#         'AMT_CREDIT_SUM': ['min', 'max', 'sum', 'mean', 'std'],\n",
    "#         'AMT_CREDIT_SUM_DEBT': ['min', 'max', 'sum', 'mean', 'std'],\n",
    "#         'AMT_CREDIT_SUM_OVERDUE': ['min', 'max', 'sum', 'mean', 'std'],\n",
    "#         'AMT_CREDIT_SUM_LIMIT': ['min', 'max', 'sum', 'mean', 'std'],\n",
    "#         'AMT_ANNUITY': ['min', 'max', 'mean', 'sum', 'std'],\n",
    "#         'CNT_CREDIT_PROLONG': ['sum', 'mean', 'std'],\n",
    "#         'SK_ID_BUREAU': ['count'],\n",
    "#         'DAYS_ENDDATE_FACT': ['min', 'max', 'mean', 'std'],\n",
    "#         'ENDDATE_DIF': ['min', 'max', 'mean', 'std'],\n",
    "#         'BUREAU_CREDIT_DEBT_RATIO': ['min', 'max', 'mean','std'],\n",
    "#         'BUREAU_IS_DPD': ['mean', 'sum', 'std'],\n",
    "#         'BUREAU_IS_DPD_OVER100': ['mean', 'sum', 'std']\n",
    "# } \n",
    "                                                                     \n",
    "# bureau_num = bureau.groupby(\"SK_ID_CURR\").agg(aggregations)\n",
    "\n",
    "# #Renaming columns to remove multi indexing\n",
    "# bureau_num.columns = pd.Index(['BUREAU' + '_' + e[0] + '_' + e[1] for e in bureau_num.columns])\n",
    "\n",
    "# bureau_num.head()"
   ]
  },
  {
   "cell_type": "code",
   "execution_count": 31,
   "id": "67e88fca",
   "metadata": {},
   "outputs": [],
   "source": [
    "# #We will count the number of CB credits with each of these attributes :\n",
    "# bureau_categ1 = pd.crosstab(bureau['SK_ID_CURR'], bureau['CREDIT_ACTIVE'])\n",
    "# bureau_categ2 = pd.crosstab(bureau['SK_ID_CURR'], bureau['CREDIT_CURRENCY'])\n",
    "\n",
    "# bureau_categ = pd.merge(bureau_categ1, bureau_categ2, how=\"outer\", left_index=True, right_index=True)\n",
    "\n",
    "# cols = ['CB_ACTIVE', 'CB_BAD_DEBT', 'CB_CLOSED', 'CB_SOLD',\n",
    "#                         'CB_CURR1', 'CB_CURR2', 'CB_CURR3', 'CB_CURR4']\n",
    "# bureau_categ.columns = cols\n",
    "\n",
    "# bureau_categ = pd.merge(bureau_categ, bureau_num[[\"BUREAU_SK_ID_BUREAU_count\"]], how=\"inner\", left_index=True, right_index=True)\n",
    "\n",
    "# for c in cols:\n",
    "#     bureau_categ[c] = bureau_categ[c] / bureau_categ[\"BUREAU_SK_ID_BUREAU_count\"]\n",
    "# bureau_categ.head()"
   ]
  },
  {
   "cell_type": "code",
   "execution_count": 32,
   "id": "6015ae88",
   "metadata": {},
   "outputs": [],
   "source": [
    "# #We now load the bureau_balance csv file\n",
    "# bureau_balance = pd.read_csv(\"Data/bureau_balance.csv\", sep=',')\n",
    "\n",
    "# bureau_balance.STATUS.value_counts(normalize=True)\n",
    "\n",
    "# bureau_balance.head()"
   ]
  },
  {
   "cell_type": "code",
   "execution_count": 33,
   "id": "95d7f830",
   "metadata": {},
   "outputs": [],
   "source": [
    "# #We create a crosstab to count the number of status type for each sk_id_bureau\n",
    "# bureau_balance_stats = pd.crosstab(bureau_balance['SK_ID_BUREAU'], bureau_balance['STATUS'])\n",
    "\n",
    "# bureau_balance_stats.head()"
   ]
  },
  {
   "cell_type": "code",
   "execution_count": 34,
   "id": "f1caadbe",
   "metadata": {},
   "outputs": [],
   "source": [
    "# #Counting the number of columns for each sk_id_bureau\n",
    "# bureau_balance_count = bureau_balance[[\"SK_ID_BUREAU\",\"MONTHS_BALANCE\"]].groupby(\"SK_ID_BUREAU\").count()\n",
    "\n",
    "# bureau_balance_count.columns = [\"CB_COUNT\"]\n",
    "\n",
    "# #Renaming the columns for better clarity\n",
    "# cols = [\"CB_DPD_0\",\"CB_DPD_1\",\"CB_DPD_2\",\"CB_DPD_3\",\"CB_DPD_4\",\"CB_DPD_5\",\"CB_BAL_CLOSED\",\"CB_BAL_UKN\"]\n",
    "# bureau_balance_stats.columns=[\"CB_DPD_0\",\"CB_DPD_1\",\"CB_DPD_2\",\"CB_DPD_3\",\"CB_DPD_4\",\"CB_DPD_5\",\"CB_BAL_CLOSED\",\"CB_BAL_UKN\"]\n",
    "\n",
    "# bureau_balance_stats = pd.merge(bureau_balance_stats, bureau_balance_count, how=\"inner\", left_index=True, right_index=True)\n",
    "\n",
    "# for c in cols:\n",
    "#     bureau_balance_stats[c] = bureau_balance_stats[c] / bureau_balance_stats[\"CB_COUNT\"]\n",
    "\n",
    "# bureau_balance_stats.head()"
   ]
  },
  {
   "cell_type": "code",
   "execution_count": 35,
   "id": "179f2a83",
   "metadata": {},
   "outputs": [],
   "source": [
    "# #Joining with the main CB dataframe to retrieve SK_ID_CURR info\n",
    "# bureau_num_bal = pd.merge(bureau_balance_stats, bureau[[\"SK_ID_BUREAU\",\"SK_ID_CURR\"]], how='inner', left_index=True, right_on='SK_ID_BUREAU')\n",
    "\n",
    "# #Creating aggregator\n",
    "# agg_functions = ['min', 'max', 'mean', 'std', 'sum']\n",
    "\n",
    "# aggregations = {\n",
    "#     c: agg_functions for c in bureau_balance_stats.columns\n",
    "# }\n",
    "\n",
    "# #Aggregating by SK_ID_CURR\n",
    "# bureau_num_bal = bureau_num_bal.groupby(\"SK_ID_CURR\").agg(aggregations)\n",
    "\n",
    "# #Renaming columns to remove multi indexing\n",
    "# bureau_num_bal.columns = pd.Index(['BB' + '_' + e[0] + '_' + e[1] for e in bureau_num_bal.columns])\n",
    "\n",
    "# bureau_num_bal.head()"
   ]
  },
  {
   "cell_type": "code",
   "execution_count": 36,
   "id": "e7286d3c",
   "metadata": {},
   "outputs": [],
   "source": [
    "# bureau_num_bal.info()\n",
    "# #We only have 134k different SK_ID, which is about 40% of our dataset. \n",
    "# #We will fill nulls with 0 because it means that the other SK_ID were not referenced at the Credit Bureau"
   ]
  },
  {
   "cell_type": "code",
   "execution_count": 37,
   "id": "a10654e6",
   "metadata": {},
   "outputs": [],
   "source": [
    "# bureau_num_full = pd.merge(bureau_num, bureau_num_bal, how='outer', left_index=True, right_index=True)\n",
    "\n",
    "# bureau_num_full.info()\n",
    "# bureau_num_full.head()"
   ]
  },
  {
   "cell_type": "code",
   "execution_count": 38,
   "id": "4824cd0b",
   "metadata": {},
   "outputs": [],
   "source": [
    "# #Merging the 2 dataframes with bureau information\n",
    "# bureau_df = pd.merge(bureau_categ, bureau_num_full, how='outer', left_index=True, right_index=True)\n",
    "\n",
    "# bureau_df.replace([np.inf, -np.inf], np.nan, inplace=True) #Removing infinite values\n",
    "\n",
    "# bureau_df.head()"
   ]
  },
  {
   "cell_type": "code",
   "execution_count": 39,
   "id": "6798683e",
   "metadata": {},
   "outputs": [],
   "source": [
    "# #Saving bureau_df to reduce RAM usage\n",
    "# bureau_df.to_csv(\"Data/bureau_df.csv\")"
   ]
  },
  {
   "cell_type": "code",
   "execution_count": 40,
   "id": "801412f7",
   "metadata": {},
   "outputs": [],
   "source": [
    "def load_bureau_info(X_train, test_set=False, X_test=None, X_val=None, validation_set=False):\n",
    "\n",
    "    bureau_df.set_index(\"SK_ID_CURR\", inplace=True)\n",
    "    #Joining this new data\n",
    "    X_train = pd.merge(X_train, bureau_df, how='left', left_index=True, right_index=True)\n",
    "    if not test_set:\n",
    "        return X_train\n",
    "    else:\n",
    "        X_test = pd.merge(X_test, bureau_df, how='left', left_index=True, right_index=True)\n",
    "    if validation_set:\n",
    "        X_val = pd.merge(X_val, bureau_df, how='left', left_index=True, right_index=True)\n",
    "        return X_train, X_test, X_val\n",
    "    return X_train, X_test"
   ]
  },
  {
   "cell_type": "markdown",
   "id": "504d3913",
   "metadata": {},
   "source": [
    "### 2.5 Using Cash balance information"
   ]
  },
  {
   "cell_type": "code",
   "execution_count": 41,
   "id": "87d60842",
   "metadata": {},
   "outputs": [],
   "source": [
    "# cash = pd.read_csv(\"Data/POS_CASH_balance.csv\", sep=',')\n",
    "\n",
    "# cash.head()"
   ]
  },
  {
   "cell_type": "code",
   "execution_count": 42,
   "id": "ea767dd8",
   "metadata": {},
   "outputs": [],
   "source": [
    "# #Creating late payment flag\n",
    "# cash['LATE_PAYMENT'] = cash['SK_DPD'].apply(lambda x: 1 if x > 0 else 0)\n",
    "# cash['POS_IS_DPD_OVER_100'] = cash['SK_DPD'].apply(lambda x: 1 if x >= 100 else 0)\n",
    "\n",
    "# #Creating aggregator\n",
    "# agg_functions = ['min', 'max', 'mean', 'std', 'sum']\n",
    "\n",
    "# #Aggregating on all columns except months_balance and sk_id_prev\n",
    "# aggregations = {\n",
    "#     c: agg_functions for c in cash.drop(columns={\"SK_ID_CURR\",\"SK_ID_PREV\",\"MONTHS_BALANCE\", \"NAME_CONTRACT_STATUS\"}).columns\n",
    "# }\n",
    "\n",
    "# #Adding a nunique count on SK_ID_PREV\n",
    "# aggregations[\"SK_ID_PREV\"] = \"nunique\"\n",
    "\n",
    "# #Aggregating over \"SK_ID_CURR\"\n",
    "# cash_df = cash.groupby(\"SK_ID_CURR\").agg(aggregations)\n",
    "\n",
    "# #Renaming columns to remove multi indexing\n",
    "# cash_df.columns = pd.Index(['CASH' + '_' + e[0] + '_' + e[1] for e in cash_df.columns])\n",
    "\n",
    "# cash_df.replace([np.inf, -np.inf], np.nan, inplace=True) #Removing infinite values\n",
    "# cash_df.head()"
   ]
  },
  {
   "cell_type": "code",
   "execution_count": 43,
   "id": "b49861c7",
   "metadata": {},
   "outputs": [],
   "source": [
    "# #Saving cash_df to csv to save RAM usage\n",
    "# cash_df.to_csv(\"Data/cash_df.csv\")"
   ]
  },
  {
   "cell_type": "code",
   "execution_count": 44,
   "id": "29f62ab1",
   "metadata": {},
   "outputs": [],
   "source": [
    "def load_cash_info(X_train, test_set=False, X_test=None, X_val=None, validation_set=False):\n",
    "\n",
    "    cash_df.set_index(\"SK_ID_CURR\", inplace=True)\n",
    "\n",
    "    #Joining this new data\n",
    "    X_train = pd.merge(X_train, cash_df, how='left', left_index=True, right_index=True)\n",
    "    if not test_set:\n",
    "        return X_train\n",
    "    else:\n",
    "        X_test = pd.merge(X_test, cash_df, how='left', left_index=True, right_index=True)\n",
    "    if validation_set:\n",
    "        X_val = pd.merge(X_val, cash_df, how='left', left_index=True, right_index=True)\n",
    "        return X_train, X_test, X_val\n",
    "    return X_train, X_test"
   ]
  },
  {
   "cell_type": "markdown",
   "id": "42c4ab2a",
   "metadata": {},
   "source": [
    "### 2.6 Using CC Balance information"
   ]
  },
  {
   "cell_type": "code",
   "execution_count": 45,
   "id": "789d73cf",
   "metadata": {},
   "outputs": [],
   "source": [
    "# cc = pd.read_csv(\"Data/credit_card_balance.csv\",sep=\",\")\n",
    "\n",
    "# cc.head()"
   ]
  },
  {
   "cell_type": "code",
   "execution_count": 46,
   "id": "c86a005c",
   "metadata": {},
   "outputs": [],
   "source": [
    "# #Calculating new features\n",
    "# cc['LATE_PAYMENT'] = cc['SK_DPD'].apply(lambda x: 1 if x > 0 else 0)\n",
    "# cc['CARD_IS_DPD_OVER_100'] = cc['SK_DPD'].apply(lambda x: 1 if x >= 100 else 0)\n",
    "\n",
    "# #Creating aggregator\n",
    "# agg_functions = ['min', 'max', 'mean', 'std', 'sum']\n",
    "\n",
    "# #Aggregating on all columns except months_balance and sk_id_prev\n",
    "# aggregations = {\n",
    "#     c: agg_functions for c in cc.drop(columns={\"SK_ID_CURR\",\"SK_ID_PREV\",\"MONTHS_BALANCE\", \"NAME_CONTRACT_STATUS\"}).columns\n",
    "# }\n",
    "\n",
    "# #Adding a nunique count on SK_ID_PREV\n",
    "# aggregations[\"SK_ID_PREV\"] = \"nunique\"\n",
    "\n",
    "# #Aggregating over \"SK_ID_CURR\"\n",
    "# cc_df = cc.groupby(\"SK_ID_CURR\").agg(aggregations)\n",
    "\n",
    "# #Renaming columns to remove multi indexing\n",
    "# cc_df.columns = pd.Index(['CC_BAL' + '_' + e[0] + '_' + e[1] for e in cc_df.columns])\n",
    "\n",
    "# cc_df.replace([np.inf, -np.inf], np.nan, inplace=True) #Removing infinite values\n",
    "\n",
    "# cc_df.head()\n",
    "\n",
    "# # #Investigating possible months balance values\n",
    "# # cc.MONTHS_BALANCE.value_counts()"
   ]
  },
  {
   "cell_type": "code",
   "execution_count": 47,
   "id": "bb3f47c9",
   "metadata": {},
   "outputs": [],
   "source": [
    "# #Saving cc_df to prevent high RAM usage\n",
    "# cc_df.to_csv(\"Data/cc_df.csv\")"
   ]
  },
  {
   "cell_type": "code",
   "execution_count": 48,
   "id": "30d10fe7",
   "metadata": {},
   "outputs": [],
   "source": [
    "def load_cc_info(X_train, test_set=False, X_test=None, X_val=None, validation_set=False):\n",
    "\n",
    "    cc_df.set_index(\"SK_ID_CURR\", inplace=True)\n",
    "\n",
    "    #Joining this new data\n",
    "    X_train = pd.merge(X_train, cc_df, how='left', left_index=True, right_index=True)\n",
    "    if not test_set:\n",
    "        return X_train\n",
    "    else:\n",
    "        X_test = pd.merge(X_test, cc_df, how='left', left_index=True, right_index=True)\n",
    "    if validation_set:\n",
    "        X_val = pd.merge(X_val, cc_df, how='left', left_index=True, right_index=True)\n",
    "        return X_train, X_test, X_val\n",
    "    return X_train, X_test"
   ]
  },
  {
   "cell_type": "markdown",
   "id": "a24cdfe3",
   "metadata": {},
   "source": [
    "### 2.7 Using installment payments information"
   ]
  },
  {
   "cell_type": "code",
   "execution_count": 49,
   "id": "37c7bcb5",
   "metadata": {},
   "outputs": [],
   "source": [
    "# install = pd.read_csv(\"Data/installments_payments.csv\",sep=\",\")\n",
    "\n",
    "# install.head()"
   ]
  },
  {
   "cell_type": "code",
   "execution_count": 50,
   "id": "1fd812c6",
   "metadata": {},
   "outputs": [],
   "source": [
    "# #Converting the DAYS columns into positive values\n",
    "# install[\"DAYS_INSTALMENT\"] = install[\"DAYS_INSTALMENT\"].apply(lambda x: abs(x))\n",
    "# install[\"DAYS_ENTRY_PAYMENT\"] = install[\"DAYS_ENTRY_PAYMENT\"].apply(lambda x: abs(x))\n",
    "\n",
    "# #Calculating simple differences\n",
    "# install[\"DAYS_DELAY\"] = install[\"DAYS_ENTRY_PAYMENT\"] - install[\"DAYS_INSTALMENT\"]\n",
    "# install['PAID_OVER_AMOUNT'] = install['AMT_PAYMENT'] - install['AMT_INSTALMENT']\n",
    "\n",
    "# #PAID_OVER flag\n",
    "# install['PAID_OVER'] = install['PAID_OVER_AMOUNT'].apply(lambda x: 1 if x > 0 else 0)\n",
    "\n",
    "# #Difference between DPD and Days before due\n",
    "# install['DPD_diff'] = install['DAYS_ENTRY_PAYMENT'] - install['DAYS_INSTALMENT']\n",
    "# install['DBD_diff'] = install['DAYS_INSTALMENT'] - install['DAYS_ENTRY_PAYMENT']\n",
    "\n",
    "# #Late payment ratio\n",
    "# install['LATE_PAYMENT'] = install.apply(lambda x: 1 if x['DPD_diff'] > 0 else 0, axis=1)\n",
    "# install['INSTALMENT_PAYMENT_RATIO'] = install['AMT_PAYMENT'] / install['AMT_INSTALMENT']\n",
    "# install['LATE_PAYMENT_RATIO'] = install.apply(lambda x: x['INSTALMENT_PAYMENT_RATIO'] if x['LATE_PAYMENT'] == 1 else 0, axis=1)\n",
    "\n",
    "# #Over 100 flag\n",
    "# install['INS_IS_DPD_OVER_100'] = install['DPD_diff'].apply(lambda x: 1 if (x >= 100) else 0)\n",
    "\n",
    "# #We have both high negative and positive delay values which indicate early or very late payment\n",
    "# #We will now calculate the difference in percentage between AMT_INSTALMENT and AMT_PAYMENT\n",
    "# install[\"DEFICIT_PCT\"] = (install[\"AMT_INSTALMENT\"] - install[\"AMT_PAYMENT\"])*100/install[\"AMT_INSTALMENT\"]\n",
    "\n",
    "# install.head()"
   ]
  },
  {
   "cell_type": "code",
   "execution_count": 51,
   "id": "7481b1da",
   "metadata": {},
   "outputs": [],
   "source": [
    "# #Creating aggregator\n",
    "# agg_functions = ['min', 'max', 'mean', 'std', 'sum']\n",
    "\n",
    "# #Aggregating on all columns except sk_id_prev\n",
    "# aggregations = {\n",
    "#     c: agg_functions for c in install.drop(columns={\"SK_ID_PREV\",\"SK_ID_CURR\"}).columns\n",
    "# }\n",
    "\n",
    "# #Adding a nunique count on SK_ID_PREV\n",
    "# aggregations[\"SK_ID_PREV\"] = \"nunique\"\n",
    "\n",
    "# #Aggregating over \"SK_ID_CURR\"\n",
    "# install_df = install.groupby(\"SK_ID_CURR\").agg(aggregations)\n",
    "\n",
    "# #Renaming columns to remove multi indexing\n",
    "# install_df.columns = pd.Index(['CC' + '_' + e[0] + '_' + e[1] for e in install_df.columns])\n",
    "\n",
    "\n",
    "# install_df.head()"
   ]
  },
  {
   "cell_type": "code",
   "execution_count": 52,
   "id": "3ab5503b",
   "metadata": {},
   "outputs": [],
   "source": [
    "# # Saving install_df to a csv to prevent repetitive rerun of the program\n",
    "# install_df.to_csv(\"Data/install_df.csv\")"
   ]
  },
  {
   "cell_type": "code",
   "execution_count": 53,
   "id": "c518a587",
   "metadata": {},
   "outputs": [],
   "source": [
    "def load_install_info(X_train, test_set=False, X_test=None, X_val=None, validation_set=False):\n",
    "\n",
    "    install_df.set_index(\"SK_ID_CURR\", inplace=True)\n",
    "    install_df.replace([np.inf, -np.inf], np.nan, inplace=True) #Removing infinite values\n",
    "\n",
    "    #Joining this new data and filling NAs with 0\n",
    "    X_train = pd.merge(X_train, install_df, how='left', left_index=True, right_index=True)\n",
    "    \n",
    "    if not test_set:\n",
    "        return X_train\n",
    "    else:\n",
    "        X_test = pd.merge(X_test, install_df, how='left', left_index=True, right_index=True)\n",
    "    \n",
    "    if validation_set:\n",
    "        X_val = pd.merge(X_val, install_df, how='left', left_index=True, right_index=True)\n",
    "        return X_train, X_test, X_val\n",
    "    \n",
    "    return X_train, X_test"
   ]
  },
  {
   "cell_type": "markdown",
   "id": "00f8af61",
   "metadata": {},
   "source": [
    "## 3. Exploratory Data Analysis\n",
    "\n",
    "We will now analyse our dataset.\n",
    "\n",
    "### 3.1 Structure analysis"
   ]
  },
  {
   "cell_type": "code",
   "execution_count": 54,
   "id": "b77547ce",
   "metadata": {},
   "outputs": [],
   "source": [
    "# print(df.shape)\n",
    "# print(pd.value_counts(df.dtypes))\n",
    "# df.select_dtypes(exclude='number').head()"
   ]
  },
  {
   "cell_type": "code",
   "execution_count": 55,
   "id": "23a87ea2",
   "metadata": {},
   "outputs": [],
   "source": [
    "# #Replacing 0 values in categorical fields by nan\n",
    "# for c in [\"FONDKAPREMONT_MODE\", \"HOUSETYPE_MODE\", \"WALLSMATERIAL_MODE\"]:\n",
    "#     df.loc[df[c] == 0, c] = np.nan\n",
    "    \n",
    "# # Check number of duplicates\n",
    "# n_duplicates = df.duplicated().sum()\n",
    "# print(\"Number of duplicates:\",n_duplicates)"
   ]
  },
  {
   "cell_type": "markdown",
   "id": "8a966fb9",
   "metadata": {},
   "source": [
    "### 3.2 Missing values\n",
    "\n",
    "We will now explore missing values, but data imputation will be performed in a later step after train/test/val split."
   ]
  },
  {
   "cell_type": "code",
   "execution_count": 56,
   "id": "f752b17b",
   "metadata": {},
   "outputs": [],
   "source": [
    "# percent_missing = df.isnull().sum() * 100 / len(df)\n",
    "\n",
    "# missing_value_df = pd.DataFrame({'percent_missing': percent_missing})\n",
    "\n",
    "# missing_value_df.sort_values('percent_missing', ascending=False, inplace=True)\n",
    "\n",
    "# print(len(missing_value_df[missing_value_df.percent_missing > 50])) #201 columns with more than 50% NA\n",
    "\n",
    "# missing_value_df.head(20)"
   ]
  },
  {
   "cell_type": "code",
   "execution_count": 57,
   "id": "b0dbe2fe",
   "metadata": {},
   "outputs": [],
   "source": [
    "# #Plotting missing columns\n",
    "# plt.figure(figsize=(10, 8))\n",
    "# plt.imshow(df.isna(), aspect=\"auto\", interpolation=\"nearest\", cmap=\"gray\")\n",
    "# plt.xlabel(\"Column Number\")\n",
    "# plt.ylabel(\"Sample Number\");"
   ]
  },
  {
   "cell_type": "markdown",
   "id": "e5edc172",
   "metadata": {},
   "source": [
    "We can see that for some columns (number ~ 120-150) there is no data for all samples above ~205000\n",
    "\n",
    "Let's look at a representation of missing features: "
   ]
  },
  {
   "cell_type": "code",
   "execution_count": 58,
   "id": "e0ee52e1",
   "metadata": {},
   "outputs": [],
   "source": [
    "# plt.hist(missing_value_df, bins = range(0,110,10))\n",
    "# plt.xlabel(\"Percentage of features missing\")\n",
    "# plt.ylabel(\"Number of columns\")\n",
    "# plt.title(\"Percentage of features missing per number of column\")\n",
    "# plt.show()"
   ]
  },
  {
   "cell_type": "code",
   "execution_count": 59,
   "id": "9010d7ab",
   "metadata": {},
   "outputs": [],
   "source": [
    "#Dropping columns with more than x% na values\n",
    "def drop_na_columns(df: pd.DataFrame, percent: float):\n",
    "    n = len(df)\n",
    "    cutoff = n*percent/100\n",
    "    for c in df.columns:\n",
    "        if len(df[c].dropna()) < cutoff:\n",
    "            df.drop(columns={c}, inplace=True)\n",
    "\n",
    "# app.info()"
   ]
  },
  {
   "cell_type": "code",
   "execution_count": 60,
   "id": "ff1649f8",
   "metadata": {},
   "outputs": [],
   "source": [
    "# #We can see that there is a lot of columns with more than 70% na values and we will delete them from our database.\n",
    "# print(df.shape)\n",
    "# drop_na_columns(df, 30)\n",
    "# print(df.shape)\n",
    "# #This removed 155 features!"
   ]
  },
  {
   "cell_type": "markdown",
   "id": "b2bcffc7",
   "metadata": {},
   "source": [
    "### 3.3 General Distribution"
   ]
  },
  {
   "cell_type": "code",
   "execution_count": 61,
   "id": "c8fcbd15",
   "metadata": {},
   "outputs": [],
   "source": [
    "# #Generate the number of continuous columns\n",
    "# cols_continuous = df.select_dtypes(include=\"number\").nunique() >= 100\n",
    "\n",
    "# df_continuous = df[cols_continuous[cols_continuous].index]\n",
    "\n",
    "# print(df_continuous.shape)\n",
    "\n",
    "# #sns.pairplot(df_continuous);\n",
    "# #Too many continuous variables to plot pairplot"
   ]
  },
  {
   "cell_type": "code",
   "execution_count": 62,
   "id": "ecea7680",
   "metadata": {},
   "outputs": [],
   "source": [
    "# #Plotting a histogram of continuous variables\n",
    "# from functions import *\n",
    "# df_continuous.histPlotAll()"
   ]
  },
  {
   "cell_type": "markdown",
   "id": "f06d3bb2",
   "metadata": {},
   "source": [
    "### 3.4 Feature correlation\n",
    "\n",
    "We can now investigate the correlation between our features.\n",
    "Since we have too many features, it is impossible to display a heatmap but we will look at the features with the most correlation.\n",
    "\n",
    "#### 3.4.1 Correlation with target variable"
   ]
  },
  {
   "cell_type": "code",
   "execution_count": 63,
   "id": "93c91881",
   "metadata": {},
   "outputs": [],
   "source": [
    "# df_corr = df.corr()\n",
    "\n",
    "# df_corr.head()"
   ]
  },
  {
   "cell_type": "code",
   "execution_count": 64,
   "id": "43e03e44",
   "metadata": {},
   "outputs": [],
   "source": [
    "# target_corr = pd.DataFrame(df_corr.TARGET)\n",
    "\n",
    "# #Turning correlation coefficients into absolute values\n",
    "# target_corr[\"TARGET\"] = abs(target_corr[\"TARGET\"])\n",
    "# target_corr.loc[target_corr[\"TARGET\"] == 1, \"TARGET\"] = 0\n",
    "\n",
    "# target_corr = target_corr.sort_values(by=\"TARGET\", ascending=False)\n",
    "# target_corr.head(10).plot(kind='bar', legend=None)\n",
    "# plt.xlabel(\"Feature\")\n",
    "# plt.ylabel(\"Correlation (abs) with TARGET\")\n",
    "# plt.title(\"Top 10 features most correlated with TARGET\")\n",
    "# plt.show()"
   ]
  },
  {
   "cell_type": "markdown",
   "id": "3f5d1aea",
   "metadata": {},
   "source": [
    "We can see that EXT_SOURCE 1, 2 and 3 are the features most correlated with TARGET.\n",
    "\n",
    "#### 3.4.2 Inter Feature Correlation"
   ]
  },
  {
   "cell_type": "code",
   "execution_count": 65,
   "id": "43a6888d",
   "metadata": {},
   "outputs": [],
   "source": [
    "# #Create a mask to remove the diagonal and the upper triangle.\n",
    "# lower_triangle_mask = np.tril(np.ones(df_corr.shape), k=-1).astype(\"bool\")\n",
    "\n",
    "# #Stack all correlations, after applying the mask\n",
    "# df_corr_stacked = df_corr.where(lower_triangle_mask).stack().sort_values()\n",
    "\n",
    "# # Showing the lowest and highest correlations in the correlation matrix\n",
    "# df_corr = abs(df_corr)\n",
    "# sns.heatmap(df_corr)\n",
    "# plt.show()"
   ]
  },
  {
   "cell_type": "markdown",
   "id": "d7fee7be",
   "metadata": {},
   "source": [
    "We can see that several features are correlated. There are 3 particularly interesting areas of interest in this plot :\n",
    "    \n",
    "- CASH AND CC CORRELATED variables (bottom right)\n",
    "- Correlation between the aggregates of base variables (top left)\n",
    "- APP correlated variables (middle)\n",
    "\n",
    "Since these correlation will negatively impact our model, we will have to remove them from our database."
   ]
  },
  {
   "cell_type": "markdown",
   "id": "c5509975",
   "metadata": {},
   "source": [
    "## 3. Feature Engineering"
   ]
  },
  {
   "cell_type": "markdown",
   "id": "d4602298",
   "metadata": {},
   "source": [
    "We've now finished cleaning incorrect values. \n",
    "Before starting to perform data imputation, we need to perform a **train/validation/test split**. This will **prevent us from introducing data leakage during the cleaning process**. \n",
    "\n",
    "### 3.1 Performing train / test / validation split\n",
    "\n",
    "We will divide our dataset as such : \n",
    "\n",
    "-  80% train set \n",
    "-  10% validation \n",
    "-  10% test\n",
    "\n",
    "We will be able to revisit this values during the hyperparameter tuning part of the project."
   ]
  },
  {
   "cell_type": "code",
   "execution_count": 66,
   "id": "1d6c6de9",
   "metadata": {},
   "outputs": [],
   "source": [
    "from sklearn.model_selection import train_test_split\n",
    "\n",
    "def perform_split(X, y , ID, target_col: str, validation_set: bool, shuffle: bool, random_state: int, test_size: float):\n",
    "\n",
    "    #Splitting train and test sets, we have to add indices to conserve the original index\n",
    "    X_train, X_test, y_train, y_test, indices_train, indices_test = train_test_split(\n",
    "        X, y, ID, test_size=test_size, stratify=y, shuffle=shuffle, random_state=random_state)\n",
    "\n",
    "    #Assigning the correct indices (the SK_IDs) to y_test\n",
    "    y_test.index = indices_test\n",
    "    \n",
    "    if validation_set:\n",
    "        #Applying the same function to separate train and validation set\n",
    "        X_train, X_val, y_train, y_val, indices_train, indices_val = train_test_split(\n",
    "            X_train, y_train, indices_train, test_size = test_size/(1-test_size), \n",
    "            shuffle=shuffle, random_state=random_state)\n",
    "\n",
    "        #Assigning the SK IDs to y_train and y_val\n",
    "        y_val.index = indices_val\n",
    "        y_train.index = indices_train\n",
    "        return X_train, y_train, X_test, y_test, X_val, y_val\n",
    "    \n",
    "    y_train.index = indices_train\n",
    "    return X_train, y_train, X_test, y_test\n"
   ]
  },
  {
   "cell_type": "code",
   "execution_count": 67,
   "id": "1d91f823",
   "metadata": {},
   "outputs": [],
   "source": [
    "# print(len(X_train), len(X_test), len(X_val))\n",
    "#Our test and validation set have the same length and its 10% of the overall length of X"
   ]
  },
  {
   "cell_type": "markdown",
   "id": "a350f09b",
   "metadata": {},
   "source": [
    "Now that we have performed the split, we can carry on to perform data imputation.\n",
    "\n",
    "These operations will also have to be performed on the test and train_set, so we will create a function that we will be able to apply to the 3 sets.\n",
    "\n",
    "### 3.2 Data Imputation\n",
    "\n",
    "First we will investigate what columns still have missing values. \n",
    "Normally, we have replaced all missing features for categorical variables."
   ]
  },
  {
   "cell_type": "code",
   "execution_count": 68,
   "id": "0dbb1604",
   "metadata": {},
   "outputs": [],
   "source": [
    "# #For ease of use, we will rename X_train to df so we can better replicate our code afterwards\n",
    "# df = X_train.copy()\n",
    "\n",
    "# def check_col_nas_type(df: pd.DataFrame):\n",
    "#     type_cols = []\n",
    "#     #Verifying the type of columns with missing values\n",
    "#     for c in df.columns[df.isna().any()].tolist():\n",
    "#         if ~np.isin(df[c].dtype, type_cols):\n",
    "#             type_cols.append(df[c].dtype)\n",
    "#     return(type_cols)\n",
    "\n",
    "# check_col_nas_type(df)\n",
    "# #This verifies that we only need to perform data imputation on numeric features"
   ]
  },
  {
   "cell_type": "code",
   "execution_count": 69,
   "id": "70bc8e04",
   "metadata": {},
   "outputs": [],
   "source": [
    "# #Loading visualization functions present in the functions.py file\n",
    "# from functions import *\n",
    "\n",
    "# #Visualizing distribution of all numeric variables\n",
    "# histPlotAll(df)\n",
    "\n",
    "# #Apart from HOUR_APPR_PROCESS_START, all numeric variables seem to be not normally distributed"
   ]
  },
  {
   "cell_type": "code",
   "execution_count": 70,
   "id": "48b97081",
   "metadata": {},
   "outputs": [],
   "source": [
    "from scipy import stats\n",
    "from sklearn.impute import SimpleImputer\n",
    "from sklearn.preprocessing import StandardScaler\n",
    "\n",
    "#Defining a data imputation function, we will use the NAME_CONTRACT_TYPE as a category_column\n",
    "\n",
    "#This data_imputation script can be improved during the hyperparameter setting phase\n",
    "\n",
    "def data_imputation(df: pd.DataFrame, max_unique_values=3, use_categ_column=False, category_column='NAME_CONTRACT_TYPE'):\n",
    "    \n",
    "    #Replacing infinite values from division by small numbers\n",
    "    df.replace([np.inf, -np.inf], np.nan, inplace=True)\n",
    "    \n",
    "    #Creating a copy of our dataset with numeric values to perform KS test\n",
    "    df_imput = df.select_dtypes(include='number')\n",
    "    num_cols = df_imput.columns\n",
    "    df_imput = pd.DataFrame(StandardScaler().fit_transform(df_imput), columns=num_cols).dropna()\n",
    "\n",
    "    #Creating a list of columns with missing values\n",
    "    missing_cols = df.loc[:, df.isna().any()].columns\n",
    "    \n",
    "    #Iterating over columns with missing data\n",
    "    for c in missing_cols:\n",
    "        \n",
    "        #Verifying that we are in a numeric column\n",
    "        if np.isin(c, num_cols):\n",
    "            \n",
    "            #If there are less or equal to max unique values, we will use mode imputation \n",
    "            if len(df[c].unique()) <= max_unique_values:\n",
    "                \n",
    "                if use_categ_column:\n",
    "                            \n",
    "                    #We will create a subset from our categorical variable and perform mode imputation\n",
    "                    for t in df[category_column].unique():\n",
    "                        #Creating subset\n",
    "                        subset = df.loc[df[category_column] == t]\n",
    "\n",
    "                        #Calculating mode of subset\n",
    "                        mode = subset[c].mode().values[0]\n",
    "\n",
    "                        #Applying imputation\n",
    "                        df.loc[(df[c].isna()) & (df[category_column] == t), c] = mode\n",
    "                \n",
    "                else:\n",
    "                    df[c] = df[c].fillna(df[c].mode().values[0])\n",
    "                            \n",
    "            #If we have more numeric values, we will calculate the Kolmogorov Smirnoff pvalue to test for normalization\n",
    "            else:\n",
    "\n",
    "                #Calculating pvalue of KS test\n",
    "                pval = stats.kstest(df_imput[c], 'norm').pvalue\n",
    "                \n",
    "                if pval >= 0.05:\n",
    "                #P value is superior to 0.05, we cannot reject the null hypothesis and thus conclude the variable is\n",
    "                #approximatively normally distributed\n",
    "                #We will use mean imputation on that variable                    \n",
    "                    if use_categ_column:\n",
    "\n",
    "                        for t in df[category_column].unique():\n",
    "                            #Creating subset\n",
    "                            subset = df.loc[df[category_column] == t]\n",
    "\n",
    "                            #Calculating mean based on that subset and our target column\n",
    "                            mean = subset[c].mean()\n",
    "\n",
    "                            #Applying imputation\n",
    "                            df.loc[(df[c].isna()) & (df[category_column] == t), c] = mean\n",
    "\n",
    "                    else:\n",
    "                        df[c] = df[c].fillna(df[c].mean())\n",
    "                            \n",
    "                else:\n",
    "                    \n",
    "                    if use_categ_column:\n",
    "                        \n",
    "                        #P value is inferior to 0.05, we can reject the null hypothesis and thus conclude the variable is\n",
    "                        #not normally distributed\n",
    "                        #We will use median imputation on that variable\n",
    "                        for t in df[category_column].unique():\n",
    "                            #Creating subset\n",
    "                            subset = df.loc[df[category_column] == t]\n",
    "\n",
    "                            #Calculating mean based on that subset and our target column\n",
    "                            med = subset[c].median()\n",
    "\n",
    "                            #Applying imputation\n",
    "                            df.loc[(df[c].isna()) & (df[category_column] == t), c] = med\n",
    "                            \n",
    "                    else:\n",
    "                        df[c] = df[c].fillna(df[c].median())\n",
    "                        \n",
    "        #Less categories              \n",
    "        else: \n",
    "            df[c] = df[c].fillna(df[c].median())              \n",
    "\n",
    "# #Applying the function to our 3 sets (X_train has been renamed to df)\n",
    "# numeric_data_imputation(df, 'NAME_CONTRACT_TYPE')\n",
    "# numeric_data_imputation(X_test, 'NAME_CONTRACT_TYPE')\n",
    "# numeric_data_imputation(X_val, 'NAME_CONTRACT_TYPE')\n",
    "\n",
    "#Checking for nulls in our 3 sets\n",
    "# for data in [df,X_test,X_val]:\n",
    "#     print(np.count_nonzero(data.isnull()))\n",
    "    \n",
    "#We have no more NA values in all 3 sets"
   ]
  },
  {
   "cell_type": "markdown",
   "id": "d5fb6975",
   "metadata": {},
   "source": [
    "We will now reencode cyclical features.\n",
    "\n",
    "### 3.3 Encoding Cyclical Features\n",
    "\n",
    "We have 2 columns with time features that are cyclical in nature but coded with numbers.\n",
    "\n",
    "- WEEDKAY_APPR_PROCESS_START\n",
    "- HOUR_APPR_PROCESS_START\n",
    "\n",
    "To increase the performance of our algorithm, we will apply a cyclical encoding algorithm to better represent their cyclical nature :"
   ]
  },
  {
   "cell_type": "code",
   "execution_count": 71,
   "id": "583ae756",
   "metadata": {},
   "outputs": [],
   "source": [
    "def encode_cyclical_vars(df: pd.DataFrame, cyclical_vars=[\"WEEKDAY_APPR_PROCESS_START\", \"HOUR_APPR_PROCESS_START\"]):\n",
    "    for c in cyclical_vars:\n",
    "        #Calculating the number of unique values\n",
    "        n = len(df[c].unique())\n",
    "        #Defining variable names\n",
    "        cos_var = c + '_cos'\n",
    "        sin_var = c + '_sin'\n",
    "        #Calculating cyclical encoder variables\n",
    "        df[sin_var] = np.sin(df[c] * (2*np.pi/n))\n",
    "        df[cos_var] = np.cos(df[c] * (2*np.pi/n))\n",
    "        #Dropping the base columns\n",
    "        df.drop(columns = {c}, inplace=True)\n",
    "\n",
    "# encode_cyclical_vars(df)\n",
    "# encode_cyclical_vars(X_test)\n",
    "# encode_cyclical_vars(X_val)\n",
    "\n",
    "# df.head()"
   ]
  },
  {
   "cell_type": "markdown",
   "id": "3fab7ff6",
   "metadata": {},
   "source": [
    "### 3.2 Encoding categorical variables\n",
    "\n",
    "Since our algorithms are only able to use numeric variables, we will need to **encode categorical variables**.\n",
    "\n",
    "For variables with a small number of categories, we will perform **One-Hot Encoding**.\n",
    "\n",
    "If there are more than 10 categories, we will perform **Weight of Evidence (WoE) encoding** instead to avoid a sharp increase in the dimensionality of our dataset."
   ]
  },
  {
   "cell_type": "code",
   "execution_count": 72,
   "id": "6a274c56",
   "metadata": {},
   "outputs": [],
   "source": [
    "from category_encoders import WOEEncoder\n",
    "from category_encoders.one_hot import OneHotEncoder\n",
    "from category_encoders.binary import BinaryEncoder\n",
    "from category_encoders.ordinal import OrdinalEncoder\n",
    "\n",
    "\n",
    "def encode_cat_vars(df: pd.DataFrame, X_train: pd.DataFrame, y_train, max_categ: int, full_encode=None,\n",
    "                    drop_invariant=False, woe_encode=True):\n",
    "    \n",
    "    #Defining a version that ordinal encodes everything\n",
    "    if full_encode == 'ordinal':\n",
    "        ord_enc = OrdinalEncoder(drop_invariant=drop_invariant, return_df=True).fit(X_train)\n",
    "        df = ord_enc.transform(df)\n",
    "        return df\n",
    "    \n",
    "    #Defining an encoder that woe_encodes everything\n",
    "    if full_encode == 'woe':\n",
    "        woe_encoder = WOEEncoder(drop_invariant=drop_invariant, return_df=True).fit(X_train, y_train)\n",
    "        df = woe_encoder.transform(df)\n",
    "        return df\n",
    "    \n",
    "    if full_encode == 'ohe':\n",
    "        ohe_encoder = OneHotEncoder(return_df= True, drop_invariant=drop_invariant).fit(X_train)\n",
    "        df = ohe_encoder.transform(df)\n",
    "        return df\n",
    "        \n",
    "    woe_cols = []\n",
    "    ohe_cols = []\n",
    "    label_cols = []\n",
    "    for c in X_train.columns:\n",
    "        \n",
    "        #Keeping only categorical columns\n",
    "        if not np.issubdtype(X_train[c].dtype,np.number):\n",
    "            \n",
    "            #If only 2 categories, performing Label encoding\n",
    "            if len(X_train[c].unique()) == 2:\n",
    "                label_cols.append(c)\n",
    "            \n",
    "            #If more than X categories, performing WOE encoding\n",
    "            elif len(X_train[c].unique()) >= max_categ:\n",
    "                woe_cols.append(c)\n",
    "            \n",
    "            else: \n",
    "                #One hot encoding and remove the original column\n",
    "                ohe_cols.append(c)\n",
    "                \n",
    "    #Defining Binary Encoder based on the train dataset and applying it to df\n",
    "    bin_enc = BinaryEncoder(cols= label_cols, drop_invariant=drop_invariant, return_df=True).fit(X_train)\n",
    "    X_train_encoded = bin_enc.transform(X_train)\n",
    "    df = bin_enc.transform(df)\n",
    "    \n",
    "    if woe_encode:\n",
    "        #Defining WOE Encoder and fitting it to the TRAIN dataset\n",
    "        woe_encoder = WOEEncoder(cols = woe_cols, drop_invariant=drop_invariant, return_df=True).fit(X_train_encoded, y_train)\n",
    "        X_train_encoded = woe_encoder.transform(X_train_encoded)\n",
    "        #Fitting the encoder to the selected dataframe\n",
    "        df = woe_encoder.transform(df)\n",
    "    else: #Perform label (ordinal) encoding\n",
    "        label_encoder = LabelEncoder(cols=woe_cols, drop_invariant=drop_invariant, return_df=True).fit(X_train_encoded)\n",
    "        X_train_encoded = label_encoder.transform(X_train_encoded)\n",
    "        df = label_encoder.transform(df)\n",
    "    \n",
    "    #Performing one hot encoding on selected columns\n",
    "    ohe_encoder = OneHotEncoder(cols=ohe_cols, return_df= True, drop_invariant=drop_invariant).fit(X_train_encoded)\n",
    "    df = ohe_encoder.transform(df)\n",
    "    \n",
    "    \n",
    "    del X_train_encoded\n",
    "    return df\n",
    "\n",
    "#Just a reminder that once again df = X_train\n",
    "#We apply all this function to our 3 sets\n",
    "# X_test = encode_cat_vars(X_test, df, y_train, 10)\n",
    "# X_val = encode_cat_vars(X_val, df, y_train, 10)\n",
    "# df = encode_cat_vars(df, df, y_train, 10)"
   ]
  },
  {
   "cell_type": "code",
   "execution_count": 73,
   "id": "d3b92315",
   "metadata": {},
   "outputs": [],
   "source": [
    "# def check_dtypes(df: pd.DataFrame):\n",
    "#     type_cols = []\n",
    "#     for c in df.columns:\n",
    "#         if not np.isin(df[c].dtype, type_cols):\n",
    "#             type_cols.append(df[c].dtype)\n",
    "#     print(type_cols)\n",
    "\n",
    "# check_dtypes(df)\n",
    "# check_dtypes(X_test)\n",
    "# check_dtypes(X_val)"
   ]
  },
  {
   "cell_type": "code",
   "execution_count": 74,
   "id": "a8d47e81",
   "metadata": {},
   "outputs": [],
   "source": [
    "# print(df.shape, X_test.shape, X_val.shape)"
   ]
  },
  {
   "cell_type": "markdown",
   "id": "4db19b86",
   "metadata": {},
   "source": [
    "## 4 Resampling our training dataset\n",
    "\n",
    "As we've seen at the beginning of this part, our dataset has a very big imbalance with 92% of rows with the TARGET = 0 and only 8% with the Target variable equal to 1.\n",
    "\n",
    "To reduce this imbalance, we will perform oversampling on our minority class.\n",
    "\n",
    "Of course, **oversampling will only be performed on our train set**."
   ]
  },
  {
   "cell_type": "code",
   "execution_count": 75,
   "id": "98acd0bd",
   "metadata": {},
   "outputs": [],
   "source": [
    "#Importing imblearn to be able to apply different kinds of oversampling\n",
    "from imblearn.over_sampling import SMOTE\n",
    "from imblearn.over_sampling import SVMSMOTE\n",
    "from imblearn.over_sampling import ADASYN\n",
    "\n",
    "def over_sample_train(X_train, y_train, method='ADASYN'):\n",
    "    \n",
    "    if method == 'SMOTE':\n",
    "        #Importing the SMOTE algorithm with default values\n",
    "        sm = SMOTE()\n",
    "\n",
    "        #Generating our resampled dataset\n",
    "        X_train_res, y_train_res = sm.fit_resample(X_train, y_train)\n",
    "    \n",
    "    elif method == 'SVMSMOTE':\n",
    "        svm = SVMSMOTE()\n",
    "        #Generating our resampled dataset\n",
    "        X_train_res, y_train_res = svm.fit_resample(X_train, y_train)\n",
    "        \n",
    "    else:\n",
    "        ada = ADASYN()\n",
    "        #Generating our resampled dataset\n",
    "        X_train_res, y_train_res = ada.fit_resample(X_train, y_train)\n",
    "    \n",
    "    return X_train_res, y_train_res, X_train, y_train\n",
    "        \n",
    "\n",
    "# print(X_train_res.shape)\n",
    "# print(y_train_res.value_counts())\n",
    "# #We have successfully removed the imbalance from our dataset and equalized the number of observations for each class"
   ]
  },
  {
   "cell_type": "code",
   "execution_count": 76,
   "id": "cdd5eb44",
   "metadata": {},
   "outputs": [],
   "source": [
    "# #Renaming the resampled variables for ease of use\n",
    "# X_train_initial = df.copy()\n",
    "# y_train_initial = y_train\n",
    "\n",
    "# X_train = X_train_res.copy()\n",
    "# y_train = y_train_res"
   ]
  },
  {
   "cell_type": "code",
   "execution_count": 77,
   "id": "0dce2c5f",
   "metadata": {},
   "outputs": [
    {
     "name": "stdout",
     "output_type": "stream",
     "text": [
      "                          _i70:  4.5 KiB\n",
      "                          _i72:  3.1 KiB\n",
      "                          _i30:  2.1 KiB\n",
      "                          _i17:  1.9 KiB\n",
      "                          _i50:  1.5 KiB\n",
      "                          _i13:  1.4 KiB\n",
      "                          _i20:  1.3 KiB\n",
      "                          _i66:  1.2 KiB\n",
      "                          _i22:  1.1 KiB\n",
      "                           _ii:  1.1 KiB\n",
      "                          _i75:  1.1 KiB\n",
      "                 SimpleImputer:  1.0 KiB\n",
      "                StandardScaler:  1.0 KiB\n",
      "                    WOEEncoder:  1.0 KiB\n",
      "                 OneHotEncoder:  1.0 KiB\n",
      "                 BinaryEncoder:  1.0 KiB\n",
      "                OrdinalEncoder:  1.0 KiB\n",
      "                         SMOTE:  1.0 KiB\n",
      "                      SVMSMOTE:  1.0 KiB\n",
      "                        ADASYN:  1.0 KiB\n"
     ]
    }
   ],
   "source": [
    "#Deleting some variables to clear memory\n",
    "import sys\n",
    "def sizeof_fmt(num, suffix='B'):\n",
    "    for unit in ['','Ki','Mi','Gi','Ti','Pi','Ei','Zi']:\n",
    "        if abs(num) < 1024.0:\n",
    "            return \"%3.1f %s%s\" % (num, unit, suffix)\n",
    "        num /= 1024.0\n",
    "    return \"%.1f %s%s\" % (num, 'Yi', suffix)\n",
    "\n",
    "for name, size in sorted(((name, sys.getsizeof(value)) for name, value in locals().items()),\n",
    "                         key= lambda x: -x[1])[:20]:\n",
    "    print(\"{:>30}: {:>8}\".format(name, sizeof_fmt(size)))\n"
   ]
  },
  {
   "cell_type": "markdown",
   "id": "8cf55fe3",
   "metadata": {},
   "source": [
    "Now that we have resampled our dataset, we want to perform **feature selection** to reduce the number of features and prevent overfitting.\n",
    "\n",
    "## 5. Feature Selection\n",
    "\n",
    "### 5.1 Removing low variance features"
   ]
  },
  {
   "cell_type": "code",
   "execution_count": 78,
   "id": "1e2d2c9c",
   "metadata": {},
   "outputs": [],
   "source": [
    "# Perform feature selection using a variance threshold\n",
    "from sklearn.feature_selection import VarianceThreshold\n",
    "\n",
    "def perform_variance_selection(X_train, X_test, X_val=None, validation_set=False, threshold=0.02):\n",
    "    \n",
    "    initial_cols = X_train.columns\n",
    "    #We select 2% as our variance threshold, but this is a hyperparameter that we will be able to optimize later\n",
    "    sel = VarianceThreshold(threshold=threshold)\n",
    "    sel.fit(X_train)\n",
    "    #Using our selector to remove columns from our 3 sets\n",
    "    X_train_sel = sel.transform(X_train)\n",
    "    X_test_sel = sel.transform(X_test)\n",
    "    if validation_set:\n",
    "        X_val_sel = sel.transform(X_val)\n",
    "\n",
    "    #Creating a list of encoded columns to preserve their names\n",
    "    i = 0\n",
    "    #Retrieving the boolean values for each column (is the column kept or not)\n",
    "    boolean_cols = sel.get_support()\n",
    "    encoded_cols = []\n",
    "    for i in range(len(initial_cols)):\n",
    "        if boolean_cols[i] == True:\n",
    "            encoded_cols.append(initial_cols[i])\n",
    "        i += 1\n",
    "\n",
    "    #The selector has transformed our dataframes into np array, let's turn them back into a DataFrame\n",
    "    X_train = pd.DataFrame(X_train_sel, columns=encoded_cols)\n",
    "    X_test = pd.DataFrame(X_test_sel, columns=encoded_cols)\n",
    "    \n",
    "    if validation_set:\n",
    "        X_val = pd.DataFrame(X_val_sel, columns=encoded_cols)\n",
    "        return X_train, X_test, X_val\n",
    "    \n",
    "    return X_train, X_test"
   ]
  },
  {
   "cell_type": "markdown",
   "id": "4f331561",
   "metadata": {},
   "source": [
    "### 5.2 Removing highly correlated features"
   ]
  },
  {
   "cell_type": "code",
   "execution_count": 79,
   "id": "c0fd2a9d",
   "metadata": {},
   "outputs": [],
   "source": [
    "# Function to list features that are correlated\n",
    "# Adds the first of the correlated pair only (not both)\n",
    "def correlatedFeatures(dataset, threshold):\n",
    "    correlated_columns = set()\n",
    "    correlations = dataset.corr()\n",
    "    for i in range(len(correlations)):\n",
    "        for j in range(i):\n",
    "            if abs(correlations.iloc[i,j]) > threshold:\n",
    "                correlated_columns.add(correlations.columns[i])\n",
    "    return correlated_columns\n",
    "\n",
    "# cf = correlatedFeatures(X_train, 0.85)\n",
    "# cf"
   ]
  },
  {
   "cell_type": "code",
   "execution_count": 80,
   "id": "dbaeaabe",
   "metadata": {},
   "outputs": [],
   "source": [
    "# #Removing our highly correlated features\n",
    "# X_train = X_train.drop(cf, axis=1)\n",
    "# X_test = X_test.drop(cf, axis=1)\n",
    "# X_val = X_val.drop(cf, axis=1)\n",
    "\n",
    "# print(X_train.shape, X_test.shape, X_val.shape)"
   ]
  },
  {
   "cell_type": "markdown",
   "id": "da9b2e62",
   "metadata": {},
   "source": [
    "### 5.3 Selecting best features\n",
    "\n",
    "We will now use the Kbest algorithm to select the X best features"
   ]
  },
  {
   "cell_type": "code",
   "execution_count": 81,
   "id": "cdff92d9",
   "metadata": {},
   "outputs": [],
   "source": [
    "from sklearn.feature_selection import SelectKBest\n",
    "from sklearn.feature_selection import f_regression\n",
    "\n",
    "def perform_kbest_selection(X_train, X_test, y_train, k: int):\n",
    "\n",
    "    kbest = SelectKBest(score_func=f_regression, k=k)\n",
    "    kbest.fit(X_train, y_train)\n",
    "    X_train_sel = kbest.transform(X_train)\n",
    "    X_test_sel = kbest.transform(X_test)\n",
    "    \n",
    "    return X_train_sel, X_test_sel\n",
    "    \n"
   ]
  },
  {
   "cell_type": "code",
   "execution_count": 82,
   "id": "cac17d71",
   "metadata": {},
   "outputs": [],
   "source": [
    "# X_train_sel = kbest.transform(X_train)\n",
    "# X_val_sel = kbest.transform(X_val)\n",
    "# X_test_sel = kbest.transform(X_test)"
   ]
  },
  {
   "cell_type": "markdown",
   "id": "fcdce2ec",
   "metadata": {},
   "source": [
    "### 5.4 Compoud Selector Function"
   ]
  },
  {
   "cell_type": "code",
   "execution_count": 91,
   "id": "3beebfd0",
   "metadata": {},
   "outputs": [],
   "source": [
    "from sklearn.ensemble import RandomForestClassifier\n",
    "from boruta import BorutaPy\n",
    "\n",
    "def select_features(X_train, X_test, y_train, var_threshold=0.02, corr_threshold=0.9, k=10,\n",
    "                    unique_select=None, max_boruta_iter=50):\n",
    "    \n",
    "    if unique_select == 'boruta':\n",
    "        rfc = RandomForestClassifier(random_state=1, n_estimators=1000, max_depth=5, n_jobs=-1)\n",
    "        boruta_selector = BorutaPy(rfc, n_estimators='auto', verbose=2, random_state=1, max_iter=max_boruta_iter)\n",
    "        boruta_selector.fit(np.array(X_train), np.array(y_train)) \n",
    "        \n",
    "        X_important_train = boruta_selector.transform(np.array(X_train))\n",
    "        X_important_test = boruta_selector.transform(np.array(X_test))\n",
    "        \n",
    "        return X_important_train, X_important_test\n",
    "    \n",
    "    elif unique_select == 'kbest':\n",
    "        return perform_kbest_selection(X_train, X_test, y_train, k)\n",
    "    \n",
    "    elif unique_select == 'variance':\n",
    "        X_train, X_test = perform_variance_selection(X_train, X_test, threshold=var_threshold)\n",
    "        return X_train, X_test\n",
    "\n",
    "    cf = correlatedFeatures(X_train, corr_threshold)\n",
    "    X_train = X_train.drop(cf, axis=1)\n",
    "    X_test = X_test.drop(cf, axis=1)\n",
    "    if unique_select == 'correlation':\n",
    "        return X_train, X_test\n",
    "\n",
    "    X_train, X_test = perform_variance_selection(X_train, X_test, threshold=var_threshold)\n",
    "        \n",
    "    return X_train, X_test"
   ]
  },
  {
   "cell_type": "markdown",
   "id": "8973771d",
   "metadata": {},
   "source": [
    "\n",
    "\n",
    "## 6. Model training\n",
    "\n",
    "The client asked for an **easy to interpret** model with an **indication of the importance of each variable** in determining the probability outcome. \n",
    "\n",
    "We will thus compare and tune the 2 following models:\n",
    "\n",
    "- A **Logistic Regression model**\n",
    "- A **Decision Tree Classifier**\n",
    "\n",
    "### 6.1 Selecting a Performance Metric\n",
    "\n",
    "Our task is to try to detect as many \"bad borrowers\" as possible while avoiding false negatives and losing too many clients.\n",
    "\n",
    "My interpretation is that we want to strike the best balance between **precision and recall**, so we will use the **ROC AUC SCORE** as the performance metric for this project.\n",
    "\n",
    "### 6.2 Calculating a Baseline\n",
    "\n",
    "For this project, the baseline will be a model that predicts that **we can lend money to all borrowers** (TARGET = 0).\n",
    "\n",
    "Let's calculate the ROC AUC, accuracy and precision for such a model :"
   ]
  },
  {
   "cell_type": "code",
   "execution_count": 155,
   "id": "679ce1b0",
   "metadata": {},
   "outputs": [
    {
     "data": {
      "text/plain": [
       "0    282686\n",
       "1     24825\n",
       "Name: TARGET, dtype: int64"
      ]
     },
     "execution_count": 155,
     "metadata": {},
     "output_type": "execute_result"
    }
   ],
   "source": [
    "#Loading the dataset \n",
    "df = pd.read_csv(\"Data/application_train.csv\", sep=\",\")\n",
    "\n",
    "df[\"TARGET\"].value_counts()"
   ]
  },
  {
   "cell_type": "code",
   "execution_count": 156,
   "id": "5ec35988",
   "metadata": {},
   "outputs": [
    {
     "name": "stdout",
     "output_type": "stream",
     "text": [
      "ROC : 0.5\n",
      "Accuracy: 0.9192711805431351\n",
      "Precision: 0.0\n"
     ]
    }
   ],
   "source": [
    "#Calculating ROC AUC\n",
    "from sklearn.metrics import roc_auc_score, precision_score, accuracy_score\n",
    "y = df[\"TARGET\"]\n",
    "X = df.drop(columns={\"TARGET\"})\n",
    "#Creating y_predict with the same size as y but only negative values\n",
    "y_predict = pd.DataFrame(y)\n",
    "y_predict[\"TARGET\"] = 0\n",
    "y_predict = y_predict.squeeze()\n",
    "\n",
    "print(\"ROC :\",roc_auc_score(y, y_predict))\n",
    "print(\"Accuracy:\", accuracy_score(y, y_predict))\n",
    "print(\"Precision:\",precision_score(y, y_predict, zero_division=0))"
   ]
  },
  {
   "cell_type": "markdown",
   "id": "668209fa",
   "metadata": {},
   "source": [
    "As we can see, our model has a ROC of 0.5 and a very high accuracy of 92%, but our precision is 0 since it doesn't detect any potentially \"bad\" borrowers.\n",
    "\n",
    "### 6.3 Preprocessing Pipeline\n",
    "\n",
    "We will create the preprocessing pipeline below:"
   ]
  },
  {
   "cell_type": "code",
   "execution_count": 87,
   "id": "3abe6bf0",
   "metadata": {
    "scrolled": true
   },
   "outputs": [
    {
     "name": "stdout",
     "output_type": "stream",
     "text": [
      "Number of features before na removal: 508\n",
      "Number of features after na removal: 353\n"
     ]
    }
   ],
   "source": [
    "#Loading dataframes\n",
    "df = pd.read_csv(\"Data/application_train.csv\")\n",
    "prev_app_df = pd.read_csv(\"Data/prev_app_df.csv\")\n",
    "bureau_df = pd.read_csv(\"Data/bureau_df.csv\")\n",
    "cash_df = pd.read_csv(\"Data/cash_df.csv\")\n",
    "cc_df = pd.read_csv(\"Data/cc_df.csv\")\n",
    "install_df = pd.read_csv(\"Data/install_df.csv\") \n",
    "\n",
    "#Preprocessing\n",
    "preprocess_cat_vars(df)\n",
    "df = preprocess_num_vars(df)\n",
    "\n",
    "#Loading information from external csv files\n",
    "df = load_prev_app_info(df)\n",
    "df = load_bureau_info(df)\n",
    "df = load_cash_info(df)\n",
    "df = load_cc_info(df)\n",
    "df = load_install_info(df)\n",
    "\n",
    "#Na removal\n",
    "print(\"Number of features before na removal:\", len(df.columns))\n",
    "drop_na_columns(df, 30)\n",
    "print(\"Number of features after na removal:\", len(df.columns))\n",
    "\n",
    "\n",
    "#Encoding cyclical vars\n",
    "encode_cyclical_vars(df)"
   ]
  },
  {
   "cell_type": "code",
   "execution_count": 88,
   "id": "db0c3341",
   "metadata": {},
   "outputs": [
    {
     "data": {
      "text/plain": [
       "['df.pkl']"
      ]
     },
     "execution_count": 88,
     "metadata": {},
     "output_type": "execute_result"
    }
   ],
   "source": [
    "import joblib\n",
    "\n",
    "joblib.dump(df, 'df.pkl')"
   ]
  },
  {
   "cell_type": "code",
   "execution_count": 94,
   "id": "35da7cd5",
   "metadata": {},
   "outputs": [
    {
     "data": {
      "text/plain": [
       "197"
      ]
     },
     "execution_count": 94,
     "metadata": {},
     "output_type": "execute_result"
    }
   ],
   "source": [
    "import gc\n",
    "gc.enable()\n",
    "del cc_df, prev_app_df, install_df, bureau_df\n",
    "gc.collect()"
   ]
  },
  {
   "cell_type": "code",
   "execution_count": 91,
   "id": "32f06711",
   "metadata": {},
   "outputs": [],
   "source": [
    "import joblib\n",
    "df = joblib.load('df.pkl')"
   ]
  },
  {
   "cell_type": "code",
   "execution_count": 89,
   "id": "ab79ad91",
   "metadata": {},
   "outputs": [
    {
     "name": "stdout",
     "output_type": "stream",
     "text": [
      "Encoding cat vars (246007, 354) (30751, 354)\n",
      "Finished encoding variables (246007, 366) (30751, 366)\n"
     ]
    }
   ],
   "source": [
    "#Performing train-test split\n",
    "X = df.drop(columns={\"TARGET\"})\n",
    "y = df[\"TARGET\"]\n",
    "ID = df.index\n",
    "\n",
    "X_train, y_train, X_test, y_test, X_val, y_val = perform_split(X, y, ID, target_col='TARGET',\n",
    "                                                 validation_set=True, shuffle=True, random_state=10, test_size=0.1)\n",
    "\n",
    "# #Performing data imputation\n",
    "data_imputation(X_train)\n",
    "data_imputation(X_test)\n",
    "data_imputation(X_val)\n",
    "\n",
    "#Encoding variables\n",
    "print(\"Encoding cat vars\",X_train.shape, X_test.shape)\n",
    "X_test = encode_cat_vars(X_test, X_train, y_train, max_categ=5, full_encode=False)\n",
    "X_val = encode_cat_vars(X_val, X_train, y_train, max_categ=5, full_encode=False)\n",
    "X_train = encode_cat_vars(X_train, X_train, y_train, max_categ=5, full_encode=False)\n",
    "X_train, X_test = X_train.align(X_test, join='left', axis=1)\n",
    "X_train, X_val = X_train.align(X_val, join='left', axis=1)\n",
    "print(\"Finished encoding variables\",X_train.shape, X_test.shape)\n",
    "\n",
    "#Oversampling\n",
    "X_train, y_train, X_train_init, y_train_init = over_sample_train(X_train, y_train)\n",
    "\n",
    "#Feature selection\n",
    "X_train, X_test, X_val = perform_variance_selection(X_train, X_test, X_val, validation_set=True)"
   ]
  },
  {
   "cell_type": "code",
   "execution_count": 90,
   "id": "1f77ea3f",
   "metadata": {},
   "outputs": [
    {
     "data": {
      "text/plain": [
       "['y_val.pkl']"
      ]
     },
     "execution_count": 90,
     "metadata": {},
     "output_type": "execute_result"
    }
   ],
   "source": [
    "import joblib\n",
    "\n",
    "\n",
    "joblib.dump(X_train, 'X_train.pkl')\n",
    "joblib.dump(X_test, 'X_test.pkl')\n",
    "joblib.dump(X_val, 'X_val.pkl')\n",
    "joblib.dump(y_train, 'y_train.pkl')\n",
    "joblib.dump(y_test, 'y_test.pkl')\n",
    "joblib.dump(y_val, 'y_val.pkl')"
   ]
  },
  {
   "cell_type": "markdown",
   "id": "2c0c552f",
   "metadata": {},
   "source": [
    "### 6.4 Base Logistic Regression Model\n",
    "\n",
    "Now that've defined our preprocessing pipeline, we will use a Logistic regression as a first model :"
   ]
  },
  {
   "cell_type": "code",
   "execution_count": 84,
   "id": "2d832bcf",
   "metadata": {},
   "outputs": [],
   "source": [
    "from sklearn.linear_model import LogisticRegression\n",
    "from sklearn.linear_model import Ridge\n",
    "from sklearn.pipeline import Pipeline\n",
    "from sklearn.metrics import classification_report, f1_score, confusion_matrix\n",
    "from sklearn.model_selection import GridSearchCV\n",
    "import warnings\n",
    "#Import tqdm to visualize algorithm run\n",
    "from tqdm.notebook import tqdm,tnrange\n",
    "from sklearn.model_selection import KFold\n",
    "from sklearn.model_selection import PredefinedSplit\n",
    "from sklearn.preprocessing import StandardScaler, RobustScaler, MinMaxScaler, Normalizer, PowerTransformer"
   ]
  },
  {
   "cell_type": "code",
   "execution_count": 142,
   "id": "202c9332",
   "metadata": {},
   "outputs": [
    {
     "name": "stdout",
     "output_type": "stream",
     "text": [
      "Logistic Regression results\n",
      "TRAIN:\n",
      "ROC AUC train : 0.93361\n",
      "----------------------\n",
      "TEST:\n",
      "              precision    recall  f1-score   support\n",
      "\n",
      "           0       0.93      0.98      0.95     56537\n",
      "           1       0.29      0.10      0.15      4965\n",
      "\n",
      "    accuracy                           0.91     61502\n",
      "   macro avg       0.61      0.54      0.55     61502\n",
      "weighted avg       0.87      0.91      0.89     61502\n",
      "\n",
      "[[55319  1218]\n",
      " [ 4472   493]]\n",
      "ROC AUC test : 0.53888\n"
     ]
    }
   ],
   "source": [
    "#We need to scale the dataset before applying Logistic Regression because sklearn log_r includes L2 regularization\n",
    "pipe_lr = Pipeline([('scaler', StandardScaler()), \n",
    "                    ('log_r', LogisticRegression(max_iter = 3000))])\n",
    "\n",
    "pipe_lr.fit(X_train, y_train)\n",
    "train_predictions = pipe_lr.predict(X_train)\n",
    "test_predictions = pipe_lr.predict(X_test)\n",
    "\n",
    "print(\"Logistic Regression results\")\n",
    "print(\"TRAIN:\")\n",
    "print(\"ROC AUC train : {:.5f}\".format(roc_auc_score(y_train, train_predictions)))\n",
    "print(\"----------------------\")\n",
    "print(\"TEST:\")\n",
    "print(classification_report(y_test, test_predictions))\n",
    "print(confusion_matrix(y_test, test_predictions))\n",
    "print(\"ROC AUC test : {:.5f}\".format(roc_auc_score(y_test, test_predictions)))"
   ]
  },
  {
   "cell_type": "code",
   "execution_count": 85,
   "id": "870242d2",
   "metadata": {},
   "outputs": [],
   "source": [
    "from sklearn.metrics import roc_auc_score\n",
    "\n",
    "def pipe_fit_roc(X_train, y_train, X_test, y_test, pipe):\n",
    "\n",
    "    pipe.fit(X_train, y_train)\n",
    "    train_predictions = pipe.predict(X_train)\n",
    "    test_predictions = pipe.predict(X_test)\n",
    "\n",
    "    roc_train = roc_auc_score(y_train, train_predictions) \n",
    "    roc_test = roc_auc_score(y_test, test_predictions)\n",
    "    \n",
    "    return roc_train, roc_test"
   ]
  },
  {
   "cell_type": "markdown",
   "id": "278631da",
   "metadata": {},
   "source": [
    "The ROC AUC is barely better than the baseline model. Hopefully we will be able to improve those results with hyperparameter tuning and by refining our feature engineering\n",
    "\n",
    "### 6.5 Lasso and Ridge Regression \n",
    "\n",
    "Let's now try to apply Lasso and Ridge regression to our dataset."
   ]
  },
  {
   "cell_type": "code",
   "execution_count": 179,
   "id": "aa4a9db9",
   "metadata": {},
   "outputs": [
    {
     "name": "stdout",
     "output_type": "stream",
     "text": [
      "Model: Ridge\n",
      "Scaler: Standard\n",
      "ROC AUC train : 0.96689\n",
      "ROC AUC test : 0.68576\n",
      "Model: Ridge\n",
      "Scaler: MinMax\n",
      "ROC AUC train : 0.96676\n",
      "ROC AUC test : 0.68581\n",
      "Model: Lasso\n",
      "Scaler: Standard\n",
      "ROC AUC train : 0.50000\n",
      "ROC AUC test : 0.50000\n",
      "Model: Lasso\n",
      "Scaler: MinMax\n",
      "ROC AUC train : 0.50000\n",
      "ROC AUC test : 0.50000\n"
     ]
    }
   ],
   "source": [
    "from sklearn.linear_model import Lasso, Ridge\n",
    "\n",
    "models = [[Ridge(alpha=4), 'Ridge'], [Lasso(alpha=5), 'Lasso']]\n",
    "scalers = [[StandardScaler(), 'Standard'], [MinMaxScaler(), 'MinMax']]\n",
    "\n",
    "for m in models:\n",
    "    for s in scalers:\n",
    "        pipe = Pipeline([('Scaler', s[0]), ('lr',m[0])])\n",
    "        pipe.fit(X_train, y_train)\n",
    "\n",
    "        train_predictions = pipe.predict(X_train)\n",
    "        test_predictions = pipe.predict(X_test)\n",
    "        \n",
    "        print(\"Model:\",m[1])\n",
    "        print(\"Scaler:\",s[1])\n",
    "        print(\"ROC AUC train : {:.5f}\".format(roc_auc_score(y_train, train_predictions)))\n",
    "        print(\"ROC AUC test : {:.5f}\".format(roc_auc_score(y_test, test_predictions)))"
   ]
  },
  {
   "cell_type": "markdown",
   "id": "7af9a168",
   "metadata": {},
   "source": [
    "The **ROC AUC of the Ridge model is the best so far**. Let's see if we can improve it with Decision Tree\n",
    "\n",
    "### 6.6 Base Decision Tree model"
   ]
  },
  {
   "cell_type": "code",
   "execution_count": 86,
   "id": "0c3227d7",
   "metadata": {},
   "outputs": [
    {
     "ename": "NameError",
     "evalue": "name 'X_train' is not defined",
     "output_type": "error",
     "traceback": [
      "\u001b[1;31m---------------------------------------------------------------------------\u001b[0m",
      "\u001b[1;31mNameError\u001b[0m                                 Traceback (most recent call last)",
      "Input \u001b[1;32mIn [86]\u001b[0m, in \u001b[0;36m<cell line: 5>\u001b[1;34m()\u001b[0m\n\u001b[0;32m      1\u001b[0m \u001b[38;5;28;01mfrom\u001b[39;00m \u001b[38;5;21;01msklearn\u001b[39;00m\u001b[38;5;21;01m.\u001b[39;00m\u001b[38;5;21;01mtree\u001b[39;00m \u001b[38;5;28;01mimport\u001b[39;00m DecisionTreeClassifier\n\u001b[0;32m      2\u001b[0m pipe_dtc \u001b[38;5;241m=\u001b[39m Pipeline([(\u001b[38;5;124m'\u001b[39m\u001b[38;5;124mscaler\u001b[39m\u001b[38;5;124m'\u001b[39m, StandardScaler()), \n\u001b[0;32m      3\u001b[0m                     (\u001b[38;5;124m'\u001b[39m\u001b[38;5;124mdtc\u001b[39m\u001b[38;5;124m'\u001b[39m, DecisionTreeClassifier())])\n\u001b[1;32m----> 5\u001b[0m pipe_dtc\u001b[38;5;241m.\u001b[39mfit(\u001b[43mX_train\u001b[49m, y_train)\n\u001b[0;32m      6\u001b[0m train_predictions \u001b[38;5;241m=\u001b[39m pipe_dtc\u001b[38;5;241m.\u001b[39mpredict(X_train)\n\u001b[0;32m      7\u001b[0m test_predictions \u001b[38;5;241m=\u001b[39m pipe_dtc\u001b[38;5;241m.\u001b[39mpredict(X_test)\n",
      "\u001b[1;31mNameError\u001b[0m: name 'X_train' is not defined"
     ]
    }
   ],
   "source": [
    "from sklearn.tree import DecisionTreeClassifier\n",
    "pipe_dtc = Pipeline([('scaler', StandardScaler()), \n",
    "                    ('dtc', DecisionTreeClassifier())])\n",
    "\n",
    "pipe_dtc.fit(X_train, y_train)\n",
    "train_predictions = pipe_dtc.predict(X_train)\n",
    "test_predictions = pipe_dtc.predict(X_test)\n",
    "\n",
    "print(\"Logistic Regression results\")\n",
    "print(\"TRAIN:\")\n",
    "print(\"ROC AUC train : {:.5f}\".format(roc_auc_score(y_train, train_predictions)))\n",
    "print(\"----------------------\")\n",
    "print(\"TEST:\")\n",
    "print(classification_report(y_test, test_predictions))\n",
    "print(confusion_matrix(y_test, test_predictions))\n",
    "print(\"ROC AUC test : {:.5f}\".format(roc_auc_score(y_test, test_predictions)))"
   ]
  },
  {
   "cell_type": "code",
   "execution_count": 86,
   "id": "9e70d79e",
   "metadata": {},
   "outputs": [],
   "source": [
    "from sklearn.tree import DecisionTreeClassifier\n",
    "def dt_classifier(X_train, X_test):\n",
    "    \n",
    "    pipe_dtc = Pipeline([('scaler', StandardScaler()), \n",
    "                    ('dtc', DecisionTreeClassifier())])\n",
    "\n",
    "    pipe_dtc.fit(X_train, y_train)\n",
    "    train_predictions = pipe_dtc.predict(X_train)\n",
    "    test_predictions = pipe_dtc.predict(X_test)\n",
    "    \n",
    "    roc_train = roc_auc_score(y_train, train_predictions) \n",
    "    roc_test = roc_auc_score(y_test, test_predictions)\n",
    "    \n",
    "    return roc_train, roc_test"
   ]
  },
  {
   "cell_type": "markdown",
   "id": "f3b6bd60",
   "metadata": {},
   "source": [
    "Unsurprisingly, the **Decision Tree is overfitting** with a ROC AUC train of 1 but a ROC AUC test of 0.54.\n",
    "\n",
    "We will begin by tuning the hyperparameters on the Logistic Regression and Ridge regression algorithms that seem to be more promising for now.\n",
    "\n",
    "## 7. Model Performance Tuning\n",
    "\n",
    "The first hyperparameter we will tune is the Scaler applied to the dataset.\n",
    "\n",
    "### 7.1 Scaler selection"
   ]
  },
  {
   "cell_type": "code",
   "execution_count": 76,
   "id": "079a01b2",
   "metadata": {},
   "outputs": [
    {
     "data": {
      "application/vnd.jupyter.widget-view+json": {
       "model_id": "3b2101fde1984fc78647447ec277fd0f",
       "version_major": 2,
       "version_minor": 0
      },
      "text/plain": [
       "K:   0%|          | 0/3 [00:00<?, ?it/s]"
      ]
     },
     "metadata": {},
     "output_type": "display_data"
    },
    {
     "name": "stdout",
     "output_type": "stream",
     "text": [
      "0.9329825165342922 0.5382172698049384\n"
     ]
    },
    {
     "name": "stderr",
     "output_type": "stream",
     "text": [
      "D:\\ProgramData\\Anaconda3\\envs\\project_4\\lib\\site-packages\\daal4py\\sklearn\\linear_model\\logistic_path.py:548: ConvergenceWarning: lbfgs failed to converge (status=2):\n",
      "ABNORMAL_TERMINATION_IN_LNSRCH.\n",
      "\n",
      "Increase the number of iterations (max_iter) or scale the data as shown in:\n",
      "    https://scikit-learn.org/stable/modules/preprocessing.html\n",
      "Please also refer to the documentation for alternative solver options:\n",
      "    https://scikit-learn.org/stable/modules/linear_model.html#logistic-regression\n",
      "  n_iter_i = _check_optimize_result(\n"
     ]
    },
    {
     "name": "stdout",
     "output_type": "stream",
     "text": [
      "0.5319372387519463 0.532111608396478\n",
      "0.932308874436408 0.5366189704149268\n",
      "0.6204867371392584 0.6026036124716445\n",
      "0.9438856417351269 0.5262385679241098\n",
      "0.9328230320941914 0.5385976815514152\n",
      "0.5185754509740282 0.5205980340392189\n",
      "0.9319729043453541 0.5369674431996613\n",
      "0.616883721871937 0.6126048242530014\n",
      "0.9441737804275112 0.5280335012882306\n",
      "0.9326874989034784 0.5373416704544943\n"
     ]
    },
    {
     "name": "stderr",
     "output_type": "stream",
     "text": [
      "D:\\ProgramData\\Anaconda3\\envs\\project_4\\lib\\site-packages\\daal4py\\sklearn\\linear_model\\logistic_path.py:548: ConvergenceWarning: lbfgs failed to converge (status=2):\n",
      "ABNORMAL_TERMINATION_IN_LNSRCH.\n",
      "\n",
      "Increase the number of iterations (max_iter) or scale the data as shown in:\n",
      "    https://scikit-learn.org/stable/modules/preprocessing.html\n",
      "Please also refer to the documentation for alternative solver options:\n",
      "    https://scikit-learn.org/stable/modules/linear_model.html#logistic-regression\n",
      "  n_iter_i = _check_optimize_result(\n"
     ]
    },
    {
     "name": "stdout",
     "output_type": "stream",
     "text": [
      "0.5639550055064347 0.5647480677606044\n",
      "0.9319049115898037 0.5361618336636874\n",
      "0.616277733840591 0.6090616915690784\n",
      "0.9445381967463051 0.5275033781481435\n"
     ]
    }
   ],
   "source": [
    "#Import tqdm to visualize algorithm run\n",
    "from tqdm.notebook import tqdm,tnrange\n",
    "from sklearn.model_selection import KFold\n",
    "from sklearn.preprocessing import StandardScaler, RobustScaler, MinMaxScaler, Normalizer, PowerTransformer\n",
    "\n",
    "#Creating K-fold validation leaves\n",
    "k = 3\n",
    "kf = KFold(n_splits=3, shuffle=True)\n",
    "\n",
    "scores = []\n",
    "\n",
    "#Defining the Scalers\n",
    "scalers = [[StandardScaler(), \"Standard\"], [RobustScaler(), \"Robust\"], [MinMaxScaler(), \"MinMax\"],\n",
    "           [Normalizer(), \"Normalizer\"], [PowerTransformer(), \"PowerTransformer\"]]\n",
    "\n",
    "for train_index, test_index in tqdm(kf.split(df), desc='K', total=k):\n",
    "    train = df.loc[df.index.isin(train_index)]\n",
    "    test  = df.loc[df.index.isin(test_index)]\n",
    "    y_train_cv = train[\"TARGET\"]\n",
    "    y_test_cv = test[\"TARGET\"]\n",
    "    X_train_cv = train.drop(columns={\"TARGET\"})\n",
    "    X_test_cv = test.drop(columns={\"TARGET\"})\n",
    "    #Performing data imputation\n",
    "    data_imputation(X_train_cv)\n",
    "    data_imputation(X_test_cv)\n",
    "\n",
    "    #Encoding variables\n",
    "    X_test_cv = encode_cat_vars(X_test_cv, X_train_cv, y_train_cv, max_categ=5, full_encode=False)\n",
    "    X_train_cv = encode_cat_vars(X_train_cv, X_train_cv, y_train_cv, max_categ=5, full_encode=False)\n",
    "    X_train_cv, X_test_cv = X_train_cv.align(X_test_cv, join='left', axis=1)\n",
    "\n",
    "    #Oversampling\n",
    "    X_train_cv, y_train_cv, X_train_init, y_train_init = over_sample_train(X_train_cv, y_train_cv)\n",
    "\n",
    "    #Feature selection\n",
    "    X_train_cv, X_test_cv = perform_variance_selection(X_train_cv, X_test_cv)\n",
    "    \n",
    "    for scaler in scalers:\n",
    "        pipe_lr = Pipeline([('scaler', scaler[0]), \n",
    "                    ('log_r', LogisticRegression(max_iter = 3000))])\n",
    "        \n",
    "        pipe_lr.fit(X_train_cv, y_train_cv)\n",
    "        train_predictions = pipe_lr.predict(X_train_cv)\n",
    "        test_predictions = pipe_lr.predict(X_test_cv)\n",
    "        roc_train = roc_auc_score(y_train_cv, train_predictions) \n",
    "        roc_test = roc_auc_score(y_test_cv, test_predictions)\n",
    "        print(roc_train, roc_test)\n",
    "        scores.append({'Scaler': scaler[1], 'ROC AUC train': roc_train, 'ROC AUC test': roc_test })"
   ]
  },
  {
   "cell_type": "code",
   "execution_count": 96,
   "id": "71e3d7b4",
   "metadata": {},
   "outputs": [
    {
     "data": {
      "image/png": "[encoded data removed]",
      "text/plain": [
       "<Figure size 1177.12x1000 with 1 Axes>"
      ]
     },
     "metadata": {},
     "output_type": "display_data"
    }
   ],
   "source": [
    "#Converting our scores array into a Dataframe    \n",
    "scores = pd.DataFrame(scores)\n",
    "\n",
    "#Selecting average ROC AUC Score and accuracy by model\n",
    "scores = scores.groupby(\"Scaler\").mean().reset_index().sort_values(by=\"ROC AUC test\", ascending=False)\n",
    "\n",
    "scores_melt = pd.melt(scores, id_vars='Scaler')\n",
    "sns.set(rc={'figure.figsize':(20,15)})\n",
    "sns.catplot(x='Scaler', y='value', hue='variable', data=scores_melt, kind='bar', height = 10)\n",
    "plt.title(\"ROC AUC Scores of LogR for different Scalers\")\n",
    "plt.xlabel(\"Scaler\")\n",
    "plt.ylabel(\"ROC AUC SCORE\")\n",
    "plt.show()"
   ]
  },
  {
   "cell_type": "code",
   "execution_count": 99,
   "id": "6a242df0",
   "metadata": {},
   "outputs": [
    {
     "data": {
      "application/vnd.jupyter.widget-view+json": {
       "model_id": "20688c4287d24a049536170cfa88b0dd",
       "version_major": 2,
       "version_minor": 0
      },
      "text/plain": [
       "K:   0%|          | 0/3 [00:00<?, ?it/s]"
      ]
     },
     "metadata": {},
     "output_type": "display_data"
    },
    {
     "name": "stdout",
     "output_type": "stream",
     "text": [
      "1.0 0.539715092469804\n",
      "1.0 0.5384978156051797\n",
      "1.0 0.5362095901683857\n",
      "1.0 0.5266339073558628\n",
      "1.0 0.5392030317247762\n",
      "1.0 0.5296240253693333\n",
      "1.0 0.5318397538250785\n",
      "1.0 0.5308266527206404\n",
      "1.0 0.5317232421619243\n",
      "1.0 0.5314914123066875\n",
      "1.0 0.5384507518011589\n",
      "1.0 0.5390317144332292\n",
      "1.0 0.5389691545797378\n",
      "1.0 0.5245938298441947\n",
      "1.0 0.5425404119684134\n"
     ]
    }
   ],
   "source": [
    "#Import tqdm to visualize algorithm run\n",
    "from tqdm.notebook import tqdm,tnrange\n",
    "from sklearn.model_selection import KFold\n",
    "from sklearn.preprocessing import StandardScaler, RobustScaler, MinMaxScaler, Normalizer, PowerTransformer\n",
    "\n",
    "#Creating K-fold validation leaves\n",
    "k = 3\n",
    "kf = KFold(n_splits=3, shuffle=True)\n",
    "\n",
    "scores_dt = []\n",
    "\n",
    "#Defining the Scalers\n",
    "scalers = [[StandardScaler(), \"Standard\"], [RobustScaler(), \"Robust\"], [MinMaxScaler(), \"MinMax\"],\n",
    "           [Normalizer(), \"Normalizer\"], [PowerTransformer(), \"PowerTransformer\"]]\n",
    "\n",
    "for train_index, test_index in tqdm(kf.split(df), desc='K', total=k):\n",
    "    train = df.loc[df.index.isin(train_index)]\n",
    "    test  = df.loc[df.index.isin(test_index)]\n",
    "    y_train_cv = train[\"TARGET\"]\n",
    "    y_test_cv = test[\"TARGET\"]\n",
    "    X_train_cv = train.drop(columns={\"TARGET\"})\n",
    "    X_test_cv = test.drop(columns={\"TARGET\"})\n",
    "    #Performing data imputation\n",
    "    data_imputation(X_train_cv)\n",
    "    data_imputation(X_test_cv)\n",
    "\n",
    "    #Encoding variables\n",
    "    X_test_cv = encode_cat_vars(X_test_cv, X_train_cv, y_train_cv, max_categ=5, full_encode=False)\n",
    "    X_train_cv = encode_cat_vars(X_train_cv, X_train_cv, y_train_cv, max_categ=5, full_encode=False)\n",
    "    X_train_cv, X_test_cv = X_train_cv.align(X_test_cv, join='left', axis=1)\n",
    "\n",
    "    #Oversampling\n",
    "    X_train_cv, y_train_cv, X_train_init, y_train_init = over_sample_train(X_train_cv, y_train_cv)\n",
    "\n",
    "    #Feature selection\n",
    "    X_train_cv, X_test_cv = perform_variance_selection(X_train_cv, X_test_cv)\n",
    "    \n",
    "    for scaler in scalers:\n",
    "        pipe_lr = Pipeline([('scaler', scaler[0]), \n",
    "                    ('log_r', DecisionTreeClassifier())])\n",
    "        \n",
    "        pipe_lr.fit(X_train_cv, y_train_cv)\n",
    "        train_predictions = pipe_lr.predict(X_train_cv)\n",
    "        test_predictions = pipe_lr.predict(X_test_cv)\n",
    "        roc_train = roc_auc_score(y_train_cv, train_predictions) \n",
    "        roc_test = roc_auc_score(y_test_cv, test_predictions)\n",
    "        print(roc_train, roc_test)\n",
    "        scores_dt.append({'Scaler': scaler[1], 'ROC AUC train': roc_train, 'ROC AUC test': roc_test })"
   ]
  },
  {
   "cell_type": "code",
   "execution_count": 100,
   "id": "2b8a1289",
   "metadata": {},
   "outputs": [
    {
     "data": {
      "image/png": "[encoded data removed]",
      "text/plain": [
       "<Figure size 1158.62x1000 with 1 Axes>"
      ]
     },
     "metadata": {},
     "output_type": "display_data"
    }
   ],
   "source": [
    "#Converting our scores array into a Dataframe    \n",
    "scores_dt = pd.DataFrame(scores_dt)\n",
    "\n",
    "#Selecting average ROC AUC Score and accuracy by model\n",
    "scores_dt = scores_dt.groupby(\"Scaler\").mean().reset_index().sort_values(by=\"ROC AUC test\", ascending=False)\n",
    "\n",
    "scores_melt = pd.melt(scores_dt, id_vars='Scaler')\n",
    "sns.set(rc={'figure.figsize':(20,15)})\n",
    "sns.catplot(x='Scaler', y='value', hue='variable', data=scores_melt, kind='bar', height = 10)\n",
    "plt.title(\"ROC AUC Scores of LogR for different Scalers\")\n",
    "plt.xlabel(\"Scaler\")\n",
    "plt.ylabel(\"ROC AUC SCORE\")\n",
    "plt.show()"
   ]
  },
  {
   "cell_type": "markdown",
   "id": "60aa787b",
   "metadata": {},
   "source": [
    "\n",
    "\n",
    "### 7.2 Model Hyperparameter tuning\n",
    "\n",
    "Now that we've selected ideal scalers for both models, we will tune hyperparameters to increase our performance indicator ==> ROC AUC. We will use the sklearn **Grid Search Cross Valided** package to perform this hyperparameter tuning."
   ]
  },
  {
   "cell_type": "code",
   "execution_count": 89,
   "id": "030addac",
   "metadata": {},
   "outputs": [],
   "source": [
    "#Importing a function to reduce memory usage, thus preventing memory overload during gridsearch\n",
    "def reduce_mem_usage(dataframe):\n",
    "    m_start = dataframe.memory_usage().sum() / 1024 ** 2\n",
    "    for col in dataframe.columns:\n",
    "        col_type = dataframe[col].dtype\n",
    "        if col_type != object:\n",
    "            c_min = dataframe[col].min()\n",
    "            c_max = dataframe[col].max()\n",
    "            if str(col_type)[:3] == 'int':\n",
    "                if c_min > np.iinfo(np.int8).min and c_max < np.iinfo(np.int8).max:\n",
    "                    dataframe[col] = dataframe[col].astype(np.int8)\n",
    "                elif c_min > np.iinfo(np.int16).min and c_max < np.iinfo(np.int16).max:\n",
    "                    dataframe[col] = dataframe[col].astype(np.int16)\n",
    "                elif c_min > np.iinfo(np.int32).min and c_max < np.iinfo(np.int32).max:\n",
    "                    dataframe[col] = dataframe[col].astype(np.int32)\n",
    "                elif c_min > np.iinfo(np.int64).min and c_max < np.iinfo(np.int64).max:\n",
    "                    dataframe[col] = dataframe[col].astype(np.int64)\n",
    "            elif str(col_type)[:5] == 'float':\n",
    "                if c_min > np.finfo(np.float16).min and c_max < np.finfo(np.float16).max:\n",
    "                    dataframe[col] = dataframe[col].astype(np.float16)\n",
    "                elif c_min > np.finfo(np.float32).min and c_max < np.finfo(np.float32).max:\n",
    "                    dataframe[col] = dataframe[col].astype(np.float32)\n",
    "                else:\n",
    "                    dataframe[col] = dataframe[col].astype(np.float64)\n",
    "\n",
    "    m_end = dataframe.memory_usage().sum() / 1024 ** 2\n",
    "    return dataframe"
   ]
  },
  {
   "cell_type": "markdown",
   "id": "72ba827c",
   "metadata": {},
   "source": [
    "#### 7.2.1 Logistic Regression"
   ]
  },
  {
   "cell_type": "code",
   "execution_count": 203,
   "id": "fc4438ac",
   "metadata": {},
   "outputs": [
    {
     "name": "stdout",
     "output_type": "stream",
     "text": [
      "Fitting 5 folds for each of 12 candidates, totalling 60 fits\n",
      "tuned hpyerparameters :(best parameters)  {'log_r__C': 1.0, 'log_r__penalty': 'l1', 'log_r__solver': 'saga'}\n",
      "ROC AUC : 0.7474984670661691\n"
     ]
    }
   ],
   "source": [
    "#Using validation set\n",
    "\n",
    "\n",
    "#Define a list of hyperparameters we want to tune\n",
    "parameters = {\n",
    "    'log_r__penalty' : ['l1','l2'], \n",
    "    'log_r__C'       : np.logspace(-3,2,6),\n",
    "    'log_r__solver'  : ['saga'],\n",
    "}\n",
    "\n",
    "#Defining our LogR pipeline\n",
    "pipe_lr = Pipeline([('scaler', StandardScaler()), \n",
    "                    ('log_r', LogisticRegression(max_iter = 3000))])\n",
    "\n",
    "#Defining our Grid Search operator, cv=pds means that the validation will directly be on the validation set\n",
    "clf = GridSearchCV(pipe_lr, \n",
    "                   param_grid = parameters,\n",
    "                   scoring = 'roc_auc', \n",
    "                   cv = 5,\n",
    "                   n_jobs=3,\n",
    "                  verbose=10)\n",
    "#Apply our Grid Search operator to our concatenated dataframes of the train and validation sets\n",
    "clf.fit(X_val,y_val)\n",
    "\n",
    "print(\"tuned hpyerparameters :(best parameters) \",clf.best_params_)\n",
    "print(\"ROC AUC :\",clf.best_score_)"
   ]
  },
  {
   "cell_type": "code",
   "execution_count": 157,
   "id": "26b8f75d",
   "metadata": {},
   "outputs": [
    {
     "name": "stdout",
     "output_type": "stream",
     "text": [
      "Fitting 5 folds for each of 12 candidates, totalling 60 fits\n",
      "tuned hpyerparameters :(best parameters)  {'log_r__C': 100.0, 'log_r__penalty': 'l2', 'log_r__solver': 'saga'}\n",
      "ROC AUC : 0.9603522269689357\n"
     ]
    }
   ],
   "source": [
    "#Using the train set\n",
    "X_train = joblib.load(\"X_train.pkl\")\n",
    "y_train = joblib.load(\"y_train.pkl\")\n",
    "\n",
    "X_train = reduce_mem_usage(X_train)\n",
    "\n",
    "#Define a list of hyperparameters we want to tune\n",
    "parameters = {\n",
    "    'log_r__penalty' : ['l1','l2'], \n",
    "    'log_r__C'       : np.logspace(-3,2,6),\n",
    "    'log_r__solver'  : ['saga'],\n",
    "}\n",
    "\n",
    "#Defining our LogR pipeline\n",
    "pipe_lr = Pipeline([('scaler', StandardScaler()), \n",
    "                    ('log_r', LogisticRegression(max_iter = 1000))])\n",
    "\n",
    "#Defining our Grid Search operator, cv=pds means that the validation will directly be on the validation set\n",
    "clf = GridSearchCV(pipe_lr, \n",
    "                   param_grid = parameters,\n",
    "                   scoring = 'roc_auc', \n",
    "                   cv = 5,\n",
    "                   n_jobs=-1,\n",
    "                  verbose=10)\n",
    "#Apply our Grid Search operator to our concatenated dataframes of the train and validation sets\n",
    "clf.fit(X_train,y_train)\n",
    "\n",
    "print(\"tuned hpyerparameters :(best parameters) \",clf.best_params_)\n",
    "print(\"ROC AUC :\",clf.best_score_)"
   ]
  },
  {
   "cell_type": "code",
   "execution_count": 158,
   "id": "41919642",
   "metadata": {},
   "outputs": [
    {
     "data": {
      "text/plain": [
       "['grid_search_LR_train_final.pkl']"
      ]
     },
     "execution_count": 158,
     "metadata": {},
     "output_type": "execute_result"
    }
   ],
   "source": [
    "#Saving GridSearchCV object\n",
    "import joblib\n",
    "\n",
    "joblib.dump(clf, 'grid_search_LR_train_final.pkl')\n"
   ]
  },
  {
   "cell_type": "markdown",
   "id": "a69d498b",
   "metadata": {},
   "source": [
    "Let's apply our GridSearch algorithm to find the best hyperparameters for Ridge with MinMax.\n",
    "\n",
    "#### 7.2.2 Ridge Hyperparameter tuning"
   ]
  },
  {
   "cell_type": "code",
   "execution_count": 89,
   "id": "2bee01d9",
   "metadata": {},
   "outputs": [],
   "source": [
    "import joblib\n",
    "X_train = joblib.load('X_train.pkl')\n",
    "y_train = joblib.load('y_train.pkl')\n",
    "X_train = reduce_mem_usage(X_train)"
   ]
  },
  {
   "cell_type": "code",
   "execution_count": 90,
   "id": "c16f22e7",
   "metadata": {},
   "outputs": [
    {
     "name": "stdout",
     "output_type": "stream",
     "text": [
      "Fitting 10 folds for each of 100 candidates, totalling 1000 fits\n",
      "tuned hpyerparameters :(best parameters)  {'ridge__alpha': 0.12121212121212122}\n",
      "ROC AUC : 0.6385427042776153\n"
     ]
    }
   ],
   "source": [
    "from sklearn.linear_model import Ridge\n",
    "#Define a list of hyperparameters we want to tune\n",
    "parameters = {\n",
    "    'ridge__alpha': np.linspace(0, 2, 100)\n",
    "}\n",
    "\n",
    "\n",
    "#Defining our LogR pipeline\n",
    "pipe = Pipeline([('scaler', MinMaxScaler()), \n",
    "                    ('ridge', Ridge())])\n",
    "\n",
    "#Defining our Grid Search operator, cv=pds means that the validation will directly be on the validation set\n",
    "clf = GridSearchCV(pipe, \n",
    "                   param_grid = parameters,\n",
    "                   scoring = 'roc_auc', \n",
    "                   cv = 10,\n",
    "                   error_score=0.5,\n",
    "                   n_jobs=-1,\n",
    "                   verbose=10)\n",
    "#Apply our Grid Search operator to our concatenated dataframes of the train and validation sets\n",
    "clf.fit(X_train,y_train)\n",
    "\n",
    "print(\"tuned hpyerparameters :(best parameters) \",clf.best_params_)\n",
    "print(\"ROC AUC :\",clf.best_score_)"
   ]
  },
  {
   "cell_type": "code",
   "execution_count": 202,
   "id": "a78b0442",
   "metadata": {},
   "outputs": [
    {
     "data": {
      "text/html": [
       "<div>\n",
       "<style scoped>\n",
       "    .dataframe tbody tr th:only-of-type {\n",
       "        vertical-align: middle;\n",
       "    }\n",
       "\n",
       "    .dataframe tbody tr th {\n",
       "        vertical-align: top;\n",
       "    }\n",
       "\n",
       "    .dataframe thead th {\n",
       "        text-align: right;\n",
       "    }\n",
       "</style>\n",
       "<table border=\"1\" class=\"dataframe\">\n",
       "  <thead>\n",
       "    <tr style=\"text-align: right;\">\n",
       "      <th></th>\n",
       "      <th>Alpha</th>\n",
       "      <th>ROC TEST</th>\n",
       "    </tr>\n",
       "  </thead>\n",
       "  <tbody>\n",
       "    <tr>\n",
       "      <th>1</th>\n",
       "      <td>0.02004</td>\n",
       "      <td>0.689453</td>\n",
       "    </tr>\n",
       "    <tr>\n",
       "      <th>2</th>\n",
       "      <td>0.04008</td>\n",
       "      <td>0.689426</td>\n",
       "    </tr>\n",
       "    <tr>\n",
       "      <th>3</th>\n",
       "      <td>0.06012</td>\n",
       "      <td>0.689408</td>\n",
       "    </tr>\n",
       "    <tr>\n",
       "      <th>4</th>\n",
       "      <td>0.08016</td>\n",
       "      <td>0.689394</td>\n",
       "    </tr>\n",
       "    <tr>\n",
       "      <th>5</th>\n",
       "      <td>0.10020</td>\n",
       "      <td>0.689389</td>\n",
       "    </tr>\n",
       "  </tbody>\n",
       "</table>\n",
       "</div>"
      ],
      "text/plain": [
       "     Alpha  ROC TEST\n",
       "1  0.02004  0.689453\n",
       "2  0.04008  0.689426\n",
       "3  0.06012  0.689408\n",
       "4  0.08016  0.689394\n",
       "5  0.10020  0.689389"
      ]
     },
     "execution_count": 202,
     "metadata": {},
     "output_type": "execute_result"
    }
   ],
   "source": [
    "#Defining our pipeline\n",
    "scores = []\n",
    "alphas = np.linspace(0, 10, 500)\n",
    "#Performing manual gridsearch based on validation set\n",
    "for a in alphas:\n",
    "    pipe = Pipeline([('scaler', MinMaxScaler()), \n",
    "                    ('ridge', Ridge(alpha=a))])\n",
    "    pipe.fit(X_train, y_train)\n",
    "    test_predictions = pipe.predict(X_val)\n",
    "    roc = roc_auc_score(y_val, test_predictions)\n",
    "    scores.append({'Alpha': a, 'ROC TEST': roc})\n",
    "\n",
    "scores = pd.DataFrame(scores).sort_values(by='ROC TEST', ascending=False)\n",
    "scores.head()"
   ]
  },
  {
   "cell_type": "markdown",
   "id": "8bbf704f",
   "metadata": {},
   "source": [
    "#### 7.2.3 Decision Tree Hyperparameter tuning"
   ]
  },
  {
   "cell_type": "code",
   "execution_count": 106,
   "id": "ba4e447a",
   "metadata": {},
   "outputs": [],
   "source": [
    "X_train = joblib.load(\"X_train.pkl\")\n",
    "X_val = joblib.load(\"X_val.pkl\")"
   ]
  },
  {
   "cell_type": "code",
   "execution_count": 107,
   "id": "722af82f",
   "metadata": {},
   "outputs": [
    {
     "name": "stdout",
     "output_type": "stream",
     "text": [
      "Fitting 1 folds for each of 90 candidates, totalling 90 fits\n",
      "tuned hpyerparameters :(best parameters)  {'dt__ccp_alpha': 0.01, 'dt__criterion': 'gini', 'dt__max_depth': 5, 'dt__max_features': 'sqrt'}\n",
      "ROC AUC : 0.6244727394904432\n"
     ]
    }
   ],
   "source": [
    "from sklearn.model_selection import GridSearchCV\n",
    "import warnings\n",
    "import gc\n",
    "#Import tqdm to visualize algorithm run\n",
    "from tqdm.notebook import tqdm,tnrange\n",
    "from sklearn.model_selection import KFold\n",
    "from sklearn.model_selection import PredefinedSplit\n",
    "from sklearn.preprocessing import StandardScaler, RobustScaler, MinMaxScaler, Normalizer, PowerTransformer\n",
    "\n",
    "#Concatenating train and validation sets to resplit for GridSearch (X hasn't undergone transformation)\n",
    "X_train_val = pd.concat([X_train, X_val])\n",
    "y_train_val = pd.concat([y_train, y_val])\n",
    "\n",
    "X_train_val = reduce_mem_usage(X_train_val)\n",
    "\n",
    "# Create a list where train data indices are -1 and validation data indices are 0\n",
    "split_index = [0 if x in X_val.index else -1 for x in X_train_val.index]\n",
    "\n",
    "# Clean up memory\n",
    "gc.enable()\n",
    "del X_train,X_val\n",
    "gc.collect()\n",
    "\n",
    "# Use the list to create PredefinedSplit\n",
    "pds = PredefinedSplit(test_fold = split_index)\n",
    "\n",
    "#Ignore warnings to keep a clear output\n",
    "warnings.filterwarnings('ignore')\n",
    "\n",
    "#Define a list of hyperparameters we want to tune\n",
    "parameters = {'dt__max_features': ['auto', 'sqrt', 'log2'],\n",
    "              'dt__ccp_alpha': [0.1, .01, .001],\n",
    "              'dt__max_depth' : [5, 6, 7, 8, 9],\n",
    "              'dt__criterion' :['gini', 'entropy']\n",
    "             }\n",
    "\n",
    "#Defining our LogR pipeline\n",
    "pipe_dt = Pipeline([('dt', DecisionTreeClassifier())])\n",
    "\n",
    "#Defining our Grid Search operator, cv=pds means that the validation will directly be on the validation set\n",
    "clf2 = GridSearchCV(pipe_dt, \n",
    "                   param_grid = parameters,\n",
    "                   scoring = 'roc_auc', \n",
    "                   cv = pds,\n",
    "                   n_jobs=2,\n",
    "                  verbose=10)\n",
    "#Apply our Grid Search operator to our concatenated dataframes of the train and validation sets\n",
    "clf2.fit(X_train_val,y_train_val)\n",
    "\n",
    "print(\"tuned hpyerparameters :(best parameters) \",clf2.best_params_)\n",
    "print(\"ROC AUC :\",clf2.best_score_)"
   ]
  },
  {
   "cell_type": "code",
   "execution_count": 108,
   "id": "1d468aad",
   "metadata": {},
   "outputs": [
    {
     "data": {
      "text/plain": [
       "['grid_search_dt.pkl']"
      ]
     },
     "execution_count": 108,
     "metadata": {},
     "output_type": "execute_result"
    }
   ],
   "source": [
    "joblib.dump(clf2, 'grid_search_dt.pkl')"
   ]
  },
  {
   "cell_type": "markdown",
   "id": "2bf8c651",
   "metadata": {},
   "source": [
    "Our decision tree classifier has much worse performance than our Logistic Regression model.\n",
    "\n",
    "We conclude that the **Logistic regression model is the best** with the following parameters :\n",
    "\n",
    "- C = 100\n",
    "- penalty = 2\n",
    "- solver = liblinear"
   ]
  },
  {
   "cell_type": "markdown",
   "id": "bf6213ab",
   "metadata": {},
   "source": [
    "### 7.3 Model Selection\n",
    "\n",
    "We will know apply our 3 best models to our train set using cross validation to select the best candidate."
   ]
  },
  {
   "cell_type": "code",
   "execution_count": 108,
   "id": "3c366f09",
   "metadata": {},
   "outputs": [
    {
     "data": {
      "application/vnd.jupyter.widget-view+json": {
       "model_id": "ea60ec1d073f435187ee3619b19f03f9",
       "version_major": 2,
       "version_minor": 0
      },
      "text/plain": [
       "K:   0%|          | 0/5 [00:00<?, ?it/s]"
      ]
     },
     "metadata": {},
     "output_type": "display_data"
    },
    {
     "name": "stdout",
     "output_type": "stream",
     "text": [
      "0.9237235369933816 0.6730322464001415\n",
      "0.6888719136588195 0.5240504889263833\n",
      "0.8540733341648651 0.6000509064585032\n",
      "0.9230468801110471 0.6744273537486171\n",
      "0.7217411498558206 0.5404691152172025\n",
      "0.8540186085196019 0.6045157450693632\n",
      "0.9217940494840938 0.6817162697625717\n",
      "0.7579228155599642 0.4963941938636049\n",
      "0.8517068591145897 0.6015080336484346\n",
      "0.9230091056481919 0.6714345078878452\n",
      "0.6843328779784437 0.5146898520147479\n",
      "0.8526248834697867 0.5995625556465634\n",
      "0.9230916899650338 0.6711190646030778\n",
      "0.7217010013213953 0.5693001636475988\n",
      "0.8533210221331327 0.596894601532118\n"
     ]
    }
   ],
   "source": [
    "import gc\n",
    "#Creating K-fold validation leaves\n",
    "k = 5\n",
    "kf = KFold(n_splits=k, shuffle=True)\n",
    "\n",
    "scores = []\n",
    "\n",
    "#Defining the pipelines:\n",
    "pipes = [[Pipeline([('scaler', MinMaxScaler()), ('ridge', Ridge(alpha=0.1212))]),'Ridge'],\n",
    "        [Pipeline([('scaler', StandardScaler()), \n",
    "                  ('Decision Tree', DecisionTreeClassifier(ccp_alpha=0.01, criterion='gini', max_depth=5, max_features='sqrt'))]),\n",
    "         \"Decision Tree\"],\n",
    "        [Pipeline([('scaler', StandardScaler()), ('logr', LogisticRegression(max_iter=3000, C=100, penalty='l2',n_jobs=-1))]),\n",
    "         \"Logistic Regression\"]]\n",
    "\n",
    "\n",
    "for train_index, test_index in tqdm(kf.split(df), desc='K', total=k):\n",
    "    train = df.loc[df.index.isin(train_index)]\n",
    "    test  = df.loc[df.index.isin(test_index)]\n",
    "    y_train_cv = train[\"TARGET\"]\n",
    "    y_test_cv = test[\"TARGET\"]\n",
    "    X_train_cv = train.drop(columns={\"TARGET\"})\n",
    "    X_test_cv = test.drop(columns={\"TARGET\"})\n",
    "\n",
    "    #Encoding variables\n",
    "    X_test_cv = encode_cat_vars(X_test_cv, X_train_cv, y_train_cv, max_categ=5, full_encode='woe')\n",
    "    X_train_cv = encode_cat_vars(X_train_cv, X_train_cv, y_train_cv, max_categ=5, full_encode='woe')\n",
    "    X_train_cv, X_test_cv = X_train_cv.align(X_test_cv, join='left', axis=1)\n",
    "    \n",
    "    #Performing data imputation\n",
    "    data_imputation(X_train_cv)\n",
    "    data_imputation(X_test_cv)\n",
    "    \n",
    "    #Reduce memory usage\n",
    "    X_train_cv = reduce_mem_usage(X_train_cv)\n",
    "    X_test_cv = reduce_mem_usage(X_test_cv)\n",
    "\n",
    "    #Oversampling\n",
    "    X_train_cv, y_train_cv, X_train_init, y_train_init = over_sample_train(X_train_cv, y_train_cv)\n",
    "\n",
    "    #Feature selection\n",
    "    X_train_cv, X_test_cv = select_features(X_train_cv, X_test_cv, y_train_cv)\n",
    "    \n",
    "    for p in pipes:\n",
    "        pipe = p[0]\n",
    "        pipe.fit(X_train_cv, y_train_cv)\n",
    "        train_predictions = pipe.predict(X_train_cv)\n",
    "        test_predictions = pipe.predict(X_test_cv)\n",
    "        roc_train = roc_auc_score(y_train_cv, train_predictions) \n",
    "        roc_test = roc_auc_score(y_test_cv, test_predictions)\n",
    "        print(roc_train, roc_test)\n",
    "        scores.append({'Model': p[1], 'ROC AUC train': roc_train, 'ROC AUC test': roc_test })\n",
    "    #Memory cleanup\n",
    "    gc.enable()\n",
    "    del X_test_cv, X_train_cv\n",
    "    gc.collect()"
   ]
  },
  {
   "cell_type": "code",
   "execution_count": 111,
   "id": "cd0a6651",
   "metadata": {},
   "outputs": [
    {
     "data": {
      "image/png": "[encoded data removed]",
      "text/plain": [
       "<Figure size 958.625x800 with 1 Axes>"
      ]
     },
     "metadata": {},
     "output_type": "display_data"
    },
    {
     "data": {
      "text/html": [
       "<div>\n",
       "<style scoped>\n",
       "    .dataframe tbody tr th:only-of-type {\n",
       "        vertical-align: middle;\n",
       "    }\n",
       "\n",
       "    .dataframe tbody tr th {\n",
       "        vertical-align: top;\n",
       "    }\n",
       "\n",
       "    .dataframe thead th {\n",
       "        text-align: right;\n",
       "    }\n",
       "</style>\n",
       "<table border=\"1\" class=\"dataframe\">\n",
       "  <thead>\n",
       "    <tr style=\"text-align: right;\">\n",
       "      <th></th>\n",
       "      <th>Model</th>\n",
       "      <th>ROC AUC train</th>\n",
       "      <th>ROC AUC test</th>\n",
       "    </tr>\n",
       "  </thead>\n",
       "  <tbody>\n",
       "    <tr>\n",
       "      <th>2</th>\n",
       "      <td>Ridge</td>\n",
       "      <td>0.922933</td>\n",
       "      <td>0.674346</td>\n",
       "    </tr>\n",
       "    <tr>\n",
       "      <th>1</th>\n",
       "      <td>Logistic Regression</td>\n",
       "      <td>0.853149</td>\n",
       "      <td>0.600506</td>\n",
       "    </tr>\n",
       "    <tr>\n",
       "      <th>0</th>\n",
       "      <td>Decision Tree</td>\n",
       "      <td>0.714914</td>\n",
       "      <td>0.528981</td>\n",
       "    </tr>\n",
       "  </tbody>\n",
       "</table>\n",
       "</div>"
      ],
      "text/plain": [
       "                 Model  ROC AUC train  ROC AUC test\n",
       "2                Ridge       0.922933      0.674346\n",
       "1  Logistic Regression       0.853149      0.600506\n",
       "0        Decision Tree       0.714914      0.528981"
      ]
     },
     "execution_count": 111,
     "metadata": {},
     "output_type": "execute_result"
    }
   ],
   "source": [
    "#Converting our scores array into a Dataframe    \n",
    "scores_dt = pd.DataFrame(scores)\n",
    "\n",
    "#Selecting average ROC AUC Score and accuracy by model\n",
    "scores_dt = scores_dt.groupby(\"Model\").mean().reset_index().sort_values(by=\"ROC AUC test\", ascending=False)\n",
    "\n",
    "scores_melt = pd.melt(scores_dt, id_vars='Model')\n",
    "sns.set(rc={'figure.figsize':(20,15)})\n",
    "sns.catplot(x='Model', y='value', hue='variable', data=scores_melt, kind='bar', height = 8)\n",
    "plt.title(\"ROC AUC Scores of for 3 different Models\")\n",
    "plt.xlabel(\"Model\")\n",
    "plt.ylabel(\"ROC AUC SCORE\")\n",
    "plt.show()\n",
    "\n",
    "scores_dt.head()"
   ]
  },
  {
   "cell_type": "markdown",
   "id": "490c01ee",
   "metadata": {},
   "source": [
    "### 7.3 Categorical variable encoding\n",
    "\n",
    "We had a high number of categorical variables, their encoding can significantly change our results."
   ]
  },
  {
   "cell_type": "code",
   "execution_count": 87,
   "id": "e73ca912",
   "metadata": {},
   "outputs": [],
   "source": [
    "import joblib\n",
    "df = joblib.load(\"df.pkl\")\n",
    "\n",
    "#df = reduce_mem_usage(df)"
   ]
  },
  {
   "cell_type": "code",
   "execution_count": 173,
   "id": "17bcc46e",
   "metadata": {},
   "outputs": [
    {
     "data": {
      "application/vnd.jupyter.widget-view+json": {
       "model_id": "9b58431cb570446fac8d3ed837760052",
       "version_major": 2,
       "version_minor": 0
      },
      "text/plain": [
       "K:   0%|          | 0/5 [00:00<?, ?it/s]"
      ]
     },
     "metadata": {},
     "output_type": "display_data"
    },
    {
     "data": {
      "application/vnd.jupyter.widget-view+json": {
       "model_id": "63ee561f2e10468f88f9a29de6c93eb2",
       "version_major": 2,
       "version_minor": 0
      },
      "text/plain": [
       "encoder:   0%|          | 0/4 [00:00<?, ?it/s]"
      ]
     },
     "metadata": {},
     "output_type": "display_data"
    },
    {
     "name": "stdout",
     "output_type": "stream",
     "text": [
      "0.97121904401596 0.6948890245379811\n",
      "0.9514062932511744 0.6693309117442822\n",
      "0.9281641960148674 0.6628404844390491\n",
      "0.9707816672599429 0.6839885911289584\n"
     ]
    },
    {
     "data": {
      "application/vnd.jupyter.widget-view+json": {
       "model_id": "fea44969e10b48cea5f2f2733ec8ae4d",
       "version_major": 2,
       "version_minor": 0
      },
      "text/plain": [
       "encoder:   0%|          | 0/4 [00:00<?, ?it/s]"
      ]
     },
     "metadata": {},
     "output_type": "display_data"
    },
    {
     "name": "stdout",
     "output_type": "stream",
     "text": [
      "0.9713292960391241 0.6925540115442494\n",
      "0.9456558778308795 0.64948170161715\n",
      "0.9282488961593274 0.662394231430229\n",
      "0.9709393829916223 0.6736818480564667\n"
     ]
    },
    {
     "data": {
      "application/vnd.jupyter.widget-view+json": {
       "model_id": "2ddc13d2c4b94997996bc4c033ce6f9c",
       "version_major": 2,
       "version_minor": 0
      },
      "text/plain": [
       "encoder:   0%|          | 0/4 [00:00<?, ?it/s]"
      ]
     },
     "metadata": {},
     "output_type": "display_data"
    },
    {
     "name": "stdout",
     "output_type": "stream",
     "text": [
      "0.9712432943402618 0.6916203195811996\n",
      "0.9502061482715113 0.667781489252575\n",
      "0.9285294971228631 0.6622901644518775\n",
      "0.9707814325378242 0.6792052172152496\n"
     ]
    },
    {
     "data": {
      "application/vnd.jupyter.widget-view+json": {
       "model_id": "2c8e0a54d65f437db487f08b0b960c16",
       "version_major": 2,
       "version_minor": 0
      },
      "text/plain": [
       "encoder:   0%|          | 0/4 [00:00<?, ?it/s]"
      ]
     },
     "metadata": {},
     "output_type": "display_data"
    },
    {
     "name": "stdout",
     "output_type": "stream",
     "text": [
      "0.9715310335227669 0.6895658037867568\n",
      "0.9506700240018701 0.6639261585890132\n",
      "0.928942956771518 0.6597143854609362\n",
      "0.9710286127804649 0.6750518366785625\n"
     ]
    },
    {
     "data": {
      "application/vnd.jupyter.widget-view+json": {
       "model_id": "4297a7e8a4754bf6b35ff325c4979a9b",
       "version_major": 2,
       "version_minor": 0
      },
      "text/plain": [
       "encoder:   0%|          | 0/4 [00:00<?, ?it/s]"
      ]
     },
     "metadata": {},
     "output_type": "display_data"
    },
    {
     "name": "stdout",
     "output_type": "stream",
     "text": [
      "0.9712300128916862 0.6930411175962956\n",
      "0.9498213155368357 0.6680266194382836\n",
      "0.929281646674904 0.6584498835306563\n",
      "0.9708505904212009 0.6858920278634343\n"
     ]
    }
   ],
   "source": [
    "#Import tqdm to visualize algorithm run\n",
    "from tqdm.notebook import tqdm,tnrange\n",
    "import gc\n",
    "\n",
    "#K fold cross validation\n",
    "from sklearn.model_selection import KFold\n",
    "#Creating K-fold validation leaves\n",
    "k = 5\n",
    "kf = KFold(n_splits=k, shuffle=True)\n",
    "\n",
    "#Initializing our scores array\n",
    "scores = []\n",
    "#Defining our encoders:\n",
    "encoders = ['mixed', 'ordinal', 'woe', 'ohe']\n",
    "\n",
    "\n",
    "for train_index, test_index in tqdm(kf.split(df), desc='K', total=k):\n",
    "    train = df.loc[df.index.isin(train_index)]\n",
    "    test  = df.loc[df.index.isin(test_index)]\n",
    "    for enc in tqdm(encoders, desc='encoder'):\n",
    "        X_train = train.drop(columns={\"TARGET\"})\n",
    "        X_test = test.drop(columns={\"TARGET\"})\n",
    "        y_train = train[\"TARGET\"]\n",
    "        y_test = test[\"TARGET\"]\n",
    "    \n",
    "    \n",
    "        #Encoding variables\n",
    "        X_test = encode_cat_vars(X_test, X_train, y_train, max_categ=8, full_encode=enc)\n",
    "        X_train = encode_cat_vars(X_train, X_train, y_train, max_categ=8, full_encode=enc)\n",
    "        X_train, X_test = X_train.align(X_test, join='left', axis=1)\n",
    "        \n",
    "        #Performing data imputation\n",
    "        data_imputation(X_train)\n",
    "        data_imputation(X_test)\n",
    "        \n",
    "        #Reducing memory usage\n",
    "        X_train = reduce_mem_usage(X_train)\n",
    "        X_test = reduce_mem_usage(X_test)\n",
    "\n",
    "        #Oversampling\n",
    "        X_train, y_train, X_train_init, y_train_init = over_sample_train(X_train, y_train)\n",
    "\n",
    "        #Feature selection\n",
    "        X_train, X_test = perform_variance_selection(X_train, X_test)\n",
    "\n",
    "        pipe = Pipeline([('scaler', MinMaxScaler()), \n",
    "                    ('ridge', Ridge(alpha=0.1212))])\n",
    "\n",
    "        pipe.fit(X_train, y_train)\n",
    "        train_predictions = pipe.predict(X_train)\n",
    "        test_predictions = pipe.predict(X_test)\n",
    "        roc_train = roc_auc_score(y_train, train_predictions) \n",
    "        roc_test = roc_auc_score(y_test, test_predictions)\n",
    "        print(roc_train, roc_test)\n",
    "        \n",
    "        scores.append({'Encoder': enc, 'ROC AUC train': roc_train, 'ROC AUC test': roc_test })\n",
    "        #Cleaning memory    \n",
    "        gc.enable()\n",
    "        del X_train, X_test\n",
    "        gc.collect()\n",
    "    #Cleaning memory    \n",
    "    gc.enable()\n",
    "    del train, test\n",
    "    gc.collect()"
   ]
  },
  {
   "cell_type": "code",
   "execution_count": 174,
   "id": "c0f1703b",
   "metadata": {},
   "outputs": [
    {
     "data": {
      "image/png": "[encoded data removed]",
      "text/plain": [
       "<Figure size 1158.62x1000 with 1 Axes>"
      ]
     },
     "metadata": {},
     "output_type": "display_data"
    }
   ],
   "source": [
    "#Converting our scores array into a Dataframe    \n",
    "scores = pd.DataFrame(scores)\n",
    "\n",
    "#Selecting average ROC AUC Score and accuracy by model\n",
    "scores = scores.groupby(\"Encoder\").mean().reset_index().sort_values(by=\"ROC AUC test\", ascending=False)\n",
    "\n",
    "scores_melt = pd.melt(scores, id_vars='Encoder')\n",
    "scores_melt.rename(columns={\"variable\": \"Test/Train\"}, inplace=True)\n",
    "sns.catplot(x='Encoder', y='value', hue=\"Test/Train\", data=scores_melt, kind='bar', height = 10)\n",
    "plt.title(\"ROC AUC Scores of Ridge Regression for different Encoders\")\n",
    "plt.xlabel(\"Encoder\")\n",
    "plt.ylabel(\"ROC AUC SCORE\")\n",
    "plt.show()"
   ]
  },
  {
   "cell_type": "code",
   "execution_count": 176,
   "id": "0266458d",
   "metadata": {},
   "outputs": [
    {
     "data": {
      "application/vnd.jupyter.widget-view+json": {
       "model_id": "64bb83457cf54e458b928276d358240a",
       "version_major": 2,
       "version_minor": 0
      },
      "text/plain": [
       "K:   0%|          | 0/3 [00:00<?, ?it/s]"
      ]
     },
     "metadata": {},
     "output_type": "display_data"
    },
    {
     "name": "stdout",
     "output_type": "stream",
     "text": [
      "0.9584893039482216 0.6785325180214662\n",
      "0.9582081212339583 0.678442464030083\n",
      "0.9585714850346734 0.6778681026649684\n",
      "0.9670215660871228 0.6884133652551218\n",
      "0.9675957189186559 0.6880378897061151\n",
      "0.9690347728867239 0.68939663403206\n",
      "0.9712857709314417 0.6932921629054349\n",
      "0.9713219564069488 0.6912850117315051\n",
      "0.972089815245305 0.6943437781663963\n",
      "0.9720978067654787 0.6953799187873234\n",
      "0.9720125402678207 0.6935989278834349\n",
      "0.9720736314352043 0.6957139299223408\n",
      "0.97199870687483 0.6931494502401622\n",
      "0.9720373938547613 0.6932505305964118\n",
      "0.9719301394141392 0.6951167103086227\n",
      "0.9720950356413861 0.6962712810681224\n",
      "0.9719971891166962 0.695320755595716\n",
      "0.9720641670368415 0.6956440761559347\n",
      "0.972014748140106 0.693104078965328\n",
      "0.9712109665609198 0.685574005559695\n",
      "0.9600524309909201 0.6795009090021322\n",
      "0.9600497132854292 0.6789660547397636\n",
      "0.9600010870821963 0.6795918810174846\n",
      "0.9685178304244786 0.6894279779059075\n",
      "0.9685509817173419 0.690054502004857\n",
      "0.9703918678676545 0.6901817974515194\n",
      "0.9726957378783194 0.6924738665674507\n",
      "0.9726664467946484 0.6920918902452522\n",
      "0.9735277712773327 0.694514409694347\n",
      "0.9735212702216194 0.6951505527080185\n",
      "0.9733719162267972 0.6937720637988274\n",
      "0.973493799897633 0.6944794580326622\n",
      "0.9734131778914731 0.6936722257811309\n",
      "0.9733660764106215 0.6937326901542005\n",
      "0.9734905322922669 0.6942033246634677\n",
      "0.9734343938574989 0.6941458241942472\n",
      "0.973438326244103 0.6938237705154804\n",
      "0.9734165547603323 0.6938509469795835\n",
      "0.9734797235518335 0.6940490969901322\n",
      "0.9726989500784642 0.6857789146109915\n",
      "0.9593910054612764 0.6748595927344264\n",
      "0.9595155865390597 0.6751081624745293\n",
      "0.9594489412111603 0.6752219409941881\n",
      "0.9678580600629786 0.6851076553005063\n",
      "0.9678446504791864 0.68527825787081\n",
      "0.9716282845698665 0.691381595893681\n",
      "0.971529697128458 0.6885772116178279\n",
      "0.9714647410702878 0.6893263021261509\n",
      "0.9723260608772892 0.6892093993193819\n",
      "0.9723264523650107 0.689076265179394\n",
      "0.9724012945752618 0.6894870427662393\n",
      "0.97230014952384 0.689186459111816\n",
      "0.9724066665653006 0.6902702319243669\n",
      "0.9714225726963095 0.6852074406963126\n",
      "0.9723788518967488 0.6900383825863675\n",
      "0.9723565022245391 0.6898308390129766\n",
      "0.9705617493732512 0.6800786980496838\n",
      "0.9724210286298955 0.6899393240811781\n",
      "0.9723296976221725 0.6894853339020188\n",
      "0.9716685390320186 0.6789487456269186\n"
     ]
    }
   ],
   "source": [
    "#Import tqdm to visualize algorithm run\n",
    "from tqdm.notebook import tqdm,tnrange\n",
    "import gc\n",
    "\n",
    "#K fold cross validation\n",
    "from sklearn.model_selection import KFold\n",
    "#Creating K-fold validation leaves\n",
    "k = 3\n",
    "kf = KFold(n_splits=k, shuffle=True)\n",
    "\n",
    "#Initializing our scores array\n",
    "scores = []\n",
    "#Defining our encoders:\n",
    "max_categ = np.arange(1,21,1)\n",
    "\n",
    "\n",
    "for train_index, test_index in tqdm(kf.split(df), desc='K', total=k):\n",
    "    train = df.loc[df.index.isin(train_index)]\n",
    "    test  = df.loc[df.index.isin(test_index)]\n",
    "    for m in max_categ:\n",
    "        X_train = train.drop(columns={\"TARGET\"})\n",
    "        X_test = test.drop(columns={\"TARGET\"})\n",
    "        y_train = train[\"TARGET\"]\n",
    "        y_test = test[\"TARGET\"]\n",
    "    \n",
    "    \n",
    "        #Encoding variables\n",
    "        X_test = encode_cat_vars(X_test, X_train, y_train, max_categ=m, full_encode='mixed')\n",
    "        X_train = encode_cat_vars(X_train, X_train, y_train, max_categ=m, full_encode='mixed')\n",
    "        X_train, X_test = X_train.align(X_test, join='left', axis=1)\n",
    "        \n",
    "        #Performing data imputation\n",
    "        data_imputation(X_train)\n",
    "        data_imputation(X_test)\n",
    "        \n",
    "        #Reducing memory usage\n",
    "        X_train = reduce_mem_usage(X_train)\n",
    "        X_test = reduce_mem_usage(X_test)\n",
    "\n",
    "        #Oversampling\n",
    "        X_train, y_train, X_train_init, y_train_init = over_sample_train(X_train, y_train)\n",
    "\n",
    "        #Feature selection\n",
    "        X_train, X_test = perform_variance_selection(X_train, X_test)\n",
    "\n",
    "        pipe = Pipeline([('scaler', MinMaxScaler()), \n",
    "                    ('ridge', Ridge(alpha=0.1212))])\n",
    "\n",
    "        pipe.fit(X_train, y_train)\n",
    "        train_predictions = pipe.predict(X_train)\n",
    "        test_predictions = pipe.predict(X_test)\n",
    "        roc_train = roc_auc_score(y_train, train_predictions) \n",
    "        roc_test = roc_auc_score(y_test, test_predictions)\n",
    "        print(roc_train, roc_test)\n",
    "        y\n",
    "        scores.append({'Max Category': m, 'ROC AUC train': roc_train, 'ROC AUC test': roc_test })\n",
    "        #Cleaning memory    \n",
    "        gc.enable()\n",
    "        del X_train, X_test\n",
    "        gc.collect()\n",
    "    #Cleaning memory    \n",
    "    gc.enable()\n",
    "    del train, test\n",
    "    gc.collect()"
   ]
  },
  {
   "cell_type": "code",
   "execution_count": 188,
   "id": "38839630",
   "metadata": {},
   "outputs": [
    {
     "data": {
      "image/png": "[encoded data removed]",
      "text/plain": [
       "<Figure size 1170x827 with 1 Axes>"
      ]
     },
     "metadata": {},
     "output_type": "display_data"
    },
    {
     "data": {
      "text/html": [
       "<div>\n",
       "<style scoped>\n",
       "    .dataframe tbody tr th:only-of-type {\n",
       "        vertical-align: middle;\n",
       "    }\n",
       "\n",
       "    .dataframe tbody tr th {\n",
       "        vertical-align: top;\n",
       "    }\n",
       "\n",
       "    .dataframe thead th {\n",
       "        text-align: right;\n",
       "    }\n",
       "</style>\n",
       "<table border=\"1\" class=\"dataframe\">\n",
       "  <thead>\n",
       "    <tr style=\"text-align: right;\">\n",
       "      <th></th>\n",
       "      <th>Max Category</th>\n",
       "      <th>ROC AUC train</th>\n",
       "      <th>ROC AUC test</th>\n",
       "    </tr>\n",
       "  </thead>\n",
       "  <tbody>\n",
       "    <tr>\n",
       "      <th>15</th>\n",
       "      <td>16</td>\n",
       "      <td>0.972629</td>\n",
       "      <td>0.693416</td>\n",
       "    </tr>\n",
       "    <tr>\n",
       "      <th>9</th>\n",
       "      <td>10</td>\n",
       "      <td>0.972649</td>\n",
       "      <td>0.693202</td>\n",
       "    </tr>\n",
       "    <tr>\n",
       "      <th>17</th>\n",
       "      <td>18</td>\n",
       "      <td>0.972634</td>\n",
       "      <td>0.693145</td>\n",
       "    </tr>\n",
       "    <tr>\n",
       "      <th>11</th>\n",
       "      <td>12</td>\n",
       "      <td>0.972623</td>\n",
       "      <td>0.693127</td>\n",
       "    </tr>\n",
       "    <tr>\n",
       "      <th>14</th>\n",
       "      <td>15</td>\n",
       "      <td>0.972600</td>\n",
       "      <td>0.693119</td>\n",
       "    </tr>\n",
       "  </tbody>\n",
       "</table>\n",
       "</div>"
      ],
      "text/plain": [
       "    Max Category  ROC AUC train  ROC AUC test\n",
       "15            16       0.972629      0.693416\n",
       "9             10       0.972649      0.693202\n",
       "17            18       0.972634      0.693145\n",
       "11            12       0.972623      0.693127\n",
       "14            15       0.972600      0.693119"
      ]
     },
     "execution_count": 188,
     "metadata": {},
     "output_type": "execute_result"
    }
   ],
   "source": [
    "from matplotlib.ticker import MaxNLocator\n",
    "\n",
    "#Converting our scores array into a Dataframe    \n",
    "scores = pd.DataFrame(scores)\n",
    "\n",
    "#Selecting average ROC AUC Score and accuracy by model\n",
    "scores = scores.groupby(\"Max Category\").mean().reset_index().sort_values(by=\"ROC AUC test\", ascending=False)\n",
    "\n",
    "ax = sns.lineplot(data=scores, x=\"Max Category\", y=\"ROC AUC test\")\n",
    "ax.xaxis.set_major_locator(MaxNLocator(integer=True))\n",
    "plt.xlabel(\"Max Category\")\n",
    "plt.ylabel(\"ROC AUC Score (Test)\")\n",
    "plt.title(\"Selection of the optimum Max Category for Categorical Features Encoding\")\n",
    "plt.show()\n",
    "\n",
    "scores.head()"
   ]
  },
  {
   "cell_type": "markdown",
   "id": "37921be7",
   "metadata": {},
   "source": [
    "**The mixed** encoder is the **most performant** for our Ridge Regression Algorithm, with max_category = 16.\n",
    "\n",
    "Now let's try to tune our Feature Selection process.\n",
    "\n",
    "### 7.4 Feature Selection"
   ]
  },
  {
   "cell_type": "code",
   "execution_count": null,
   "id": "c72b4318",
   "metadata": {},
   "outputs": [
    {
     "data": {
      "application/vnd.jupyter.widget-view+json": {
       "model_id": "f590348a13ef4f5db110d1e83b4b2e71",
       "version_major": 2,
       "version_minor": 0
      },
      "text/plain": [
       "K:   0%|          | 0/3 [00:00<?, ?it/s]"
      ]
     },
     "metadata": {},
     "output_type": "display_data"
    }
   ],
   "source": [
    "from tqdm.notebook import tqdm,tnrange\n",
    "import gc\n",
    "#Initializing our scores array\n",
    "scores = []\n",
    "#Defining our encoders and parameters:\n",
    "df_selectors = ['mixed', ['variance', [.005,.01,.015, .02, .025, .03]],\n",
    "             ['correlation', [.90, .80, .75, .70, .65, .60]], ['kbest', np.arange(1,31)], 'boruta']\n",
    "\n",
    "#Creating K-fold validation leaves\n",
    "k = 3\n",
    "kf = KFold(n_splits=k, shuffle=True)\n",
    "\n",
    "\n",
    "for train_index, test_index in tqdm(kf.split(df), desc='K', total=k):\n",
    "    train = df.loc[df.index.isin(train_index)]\n",
    "    test  = df.loc[df.index.isin(test_index)]\n",
    "    X_train = train.drop(columns={\"TARGET\"})\n",
    "    X_test = test.drop(columns={\"TARGET\"})\n",
    "    y_train = train[\"TARGET\"]\n",
    "    y_test = test[\"TARGET\"]\n",
    "    \n",
    "    #Cleaning memory    \n",
    "    gc.enable()\n",
    "    del train,test\n",
    "    gc.collect()\n",
    "\n",
    "    #Encoding variables\n",
    "    X_test = encode_cat_vars(X_test, X_train, y_train, max_categ=16, full_encode='mixed')\n",
    "    X_train = encode_cat_vars(X_train, X_train, y_train, max_categ=16, full_encode='mixed')\n",
    "    X_train, X_test = X_train.align(X_test, join='left', axis=1)\n",
    "\n",
    "    #Performing data imputation\n",
    "    data_imputation(X_train)\n",
    "    data_imputation(X_test)\n",
    "\n",
    "    #Reducing memory usage\n",
    "    X_train_os = reduce_mem_usage(X_train)\n",
    "    X_test_os = reduce_mem_usage(X_test)\n",
    "\n",
    "    #Oversampling\n",
    "    X_train_os, y_train, X_train_init, y_train_init = over_sample_train(X_train_os, y_train)\n",
    "\n",
    "    pipe = Pipeline([('scaler', MinMaxScaler()), \n",
    "                     ('ridge', Ridge(alpha=0.1212))])\n",
    "    for sel in df_selectors:\n",
    "        print(\"Current Selector:\", sel[0])\n",
    "\n",
    "        if len(sel) == 2:\n",
    "            if sel[0] == 'variance':\n",
    "                for v in sel[1]:\n",
    "                    var_threshold=v\n",
    "                    X_train, X_test = select_features(X_train_os, X_test_os, y_train,\n",
    "                                                      unique_select='variance', var_threshold=var_threshold)\n",
    "\n",
    "                    roc_train, roc_test = pipe_fit_roc(X_train, y_train, X_test, y_test, pipe)\n",
    "                    print(roc_train, roc_test)\n",
    "\n",
    "                    scores.append({'Selector': sel[0], 'var': v, 'ROC_AUC_train': roc_train, 'ROC_AUC_TEST': roc_test })\n",
    "\n",
    "            elif sel[0] == 'correlation':\n",
    "                for v in sel[1]:\n",
    "                    corr_threshold=v\n",
    "                    X_train, X_test = select_features(X_train_os, X_test_os, y_train,\n",
    "                                                      corr_threshold=corr_threshold, unique_select='correlation')\n",
    "                    roc_train, roc_test = pipe_fit_roc(X_train, y_train, X_test, y_test, pipe)\n",
    "                    print(roc_train, roc_test)\n",
    "\n",
    "                    scores.append({'Selector': sel[0], 'var': v, 'ROC_AUC_train': roc_train, 'ROC_AUC_TEST': roc_test })\n",
    "            elif sel[0] == 'kbest':\n",
    "                for v in sel[1]:\n",
    "                    k=v\n",
    "                    X_train, X_test = select_features(X_train_os, X_test_os, y_train, unique_select='kbest', k=k)\n",
    "\n",
    "                    roc_train, roc_test = pipe_fit_roc(X_train, y_train, X_test, y_test, pipe)\n",
    "                    print(roc_train, roc_test)\n",
    "\n",
    "                    scores.append({'Selector': sel[0], 'var': v, 'ROC_AUC_train': roc_train, 'ROC_AUC_TEST': roc_test })\n",
    "\n",
    "        else:\n",
    "            X_train, X_test = select_features(X_train_os, X_test_os, y_train, unique_select=sel)\n",
    "\n",
    "            roc_train, roc_test = pipe_fit_roc(X_train, y_train, X_test, y_test, pipe)\n",
    "            print(roc_train, roc_test)\n",
    "\n",
    "            scores.append({'Selector': sel, 'var': 0, 'ROC_AUC_train': roc_train, 'ROC_AUC_TEST': roc_test })\n",
    "        \n",
    "        #Cleaning memory    \n",
    "        gc.enable()\n",
    "        del X_train,X_test\n",
    "        gc.collect()"
   ]
  },
  {
   "cell_type": "code",
   "execution_count": null,
   "id": "7728c3db",
   "metadata": {},
   "outputs": [],
   "source": [
    "#Converting our scores array into a Dataframe    \n",
    "scores = pd.DataFrame(scores)\n",
    "\n",
    "#Selecting average ROC AUC Score and accuracy by selector\n",
    "scores = scores.groupby(\"Selector\").mean().reset_index().sort_values(by=\"ROC_AUC_TEST\", ascending=False)\n",
    "\n",
    "sns.barplot(data = scores, x=\"Selector\", y=\"ROC_AUC_TEST\")\n",
    "plt.show()"
   ]
  },
  {
   "cell_type": "code",
   "execution_count": null,
   "id": "d0922a46",
   "metadata": {},
   "outputs": [],
   "source": [
    "#Import tqdm to visualize algorithm run\n",
    "from tqdm.notebook import tqdm,tnrange\n",
    "\n",
    "#K fold cross validation\n",
    "from sklearn.model_selection import KFold\n",
    "\n",
    "kf = KFold(n_splits=2, shuffle=True)\n",
    "\n",
    "#Initializing our scores array\n",
    "scores = []\n",
    "df = df.copy()\n",
    "#Defining our encoders:\n",
    "selectors = [['correlation', np.arange(0.7,1,0.01)],['kbest', np.arange(1,51,1)]]\n",
    "\n",
    "for sel in tqdm(selectors, desc='Selector'):\n",
    "    for param in tqdm(sel[1], desc='Hyperparameter'):\n",
    "        for train_index, test_index in tqdm(kf.split(df),desc='K',total=2):\n",
    "            train = df.loc[df.index.isin(train_index)]\n",
    "            test  = df.loc[df.index.isin(test_index)]\n",
    "\n",
    "            y_train = train[\"TARGET\"]\n",
    "            y_test = test[\"TARGET\"]\n",
    "            X_train = train.drop(columns={\"TARGET\"})\n",
    "            X_test = test.drop(columns={\"TARGET\"})\n",
    "            #Performing data imputation\n",
    "            numeric_data_imputation(X_train)\n",
    "            numeric_data_imputation(X_test)\n",
    "\n",
    "            #Encoding variables\n",
    "            X_test = encode_cat_vars(X_test, X_train, y_train, max_categ=10, full_encode='woe')\n",
    "            X_train = encode_cat_vars(X_train, X_train, y_train, max_categ=10, full_encode='woe')\n",
    "            X_train, X_test = X_train.align(X_test, join='left', axis=1)\n",
    "\n",
    "            #Oversampling\n",
    "            X_train, y_train, X_train_init, y_train_init = over_sample_train(X_train, y_train)\n",
    "\n",
    "            #Feature selection\n",
    "            X_train, X_test = select_features(X_train, X_test, y_train, unique_select=sel[0], k=param, corr_threshold=param)\n",
    "\n",
    "            roc_train, roc_test = logr_classifier(X_train, X_test)\n",
    "            print(roc_train, roc_test)\n",
    "\n",
    "            scores.append({'Selector': sel[0], 'Hyperparameter': param,\n",
    "                           'ROC AUC train': roc_train, 'ROC AUC TEST': roc_test })"
   ]
  },
  {
   "cell_type": "code",
   "execution_count": null,
   "id": "bbcdcd52",
   "metadata": {},
   "outputs": [],
   "source": [
    "#Converting our scores array into a Dataframe    \n",
    "scores = pd.DataFrame(scores)\n",
    "\n",
    "#Selecting average ROC AUC Score and accuracy by selector\n",
    "scores = scores.groupby([\"Selector\",\"Hyperparameter\"]).mean().reset_index().sort_values(by=\"ROC AUC TEST\", ascending=False)"
   ]
  },
  {
   "cell_type": "code",
   "execution_count": null,
   "id": "6ce14085",
   "metadata": {},
   "outputs": [],
   "source": [
    "for sel in scores.Selector.unique():\n",
    "    subset = scores[scores.Selector == sel]\n",
    "    sns.lineplot(data=subset, x='Hyperparameter', y=\"ROC AUC TEST\")\n",
    "    plt.show()"
   ]
  },
  {
   "cell_type": "markdown",
   "id": "31155b24",
   "metadata": {},
   "source": [
    "### 7.5 KNeighbors Classifier"
   ]
  },
  {
   "cell_type": "code",
   "execution_count": 172,
   "id": "d2d1432c",
   "metadata": {},
   "outputs": [
    {
     "name": "stdout",
     "output_type": "stream",
     "text": [
      "Logistic Regression results\n",
      "TRAIN:\n",
      "              precision    recall  f1-score   support\n",
      "\n",
      "           0       1.00      0.75      0.86    226126\n",
      "           1       0.80      1.00      0.89    219163\n",
      "\n",
      "    accuracy                           0.87    445289\n",
      "   macro avg       0.90      0.87      0.87    445289\n",
      "weighted avg       0.90      0.87      0.87    445289\n",
      "\n",
      "----------------------\n",
      "TEST:\n",
      "              precision    recall  f1-score   support\n",
      "\n",
      "           0       0.93      0.65      0.77     28269\n",
      "           1       0.11      0.48      0.18      2482\n",
      "\n",
      "    accuracy                           0.64     30751\n",
      "   macro avg       0.52      0.56      0.47     30751\n",
      "weighted avg       0.87      0.64      0.72     30751\n",
      "\n"
     ]
    }
   ],
   "source": [
    "from sklearn.neighbors import KNeighborsClassifier\n",
    "\n",
    "pipe_knc = Pipeline([('scaler', StandardScaler()), ('knc', KNeighborsClassifier())])\n",
    "\n",
    "X_train = joblib.load('X_train.pkl')\n",
    "X_test = joblib.load('X_test.pkl')\n",
    "y_train = joblib.load('y_train.pkl')\n",
    "y_test = joblib.load('y_test.pkl')\n",
    "\n",
    "pipe_knc.fit(X_train, y_train)\n",
    "\n",
    "train_predictions = pipe_knc.predict(X_train)\n",
    "test_predictions = pipe_knc.predict(X_test)\n",
    "\n",
    "print(\"Logistic Regression results\")\n",
    "print(\"TRAIN:\")\n",
    "print(classification_report(y_train, train_predictions))\n",
    "print(\"----------------------\")\n",
    "print(\"TEST:\")\n",
    "print(classification_report(y_test, test_predictions))"
   ]
  },
  {
   "cell_type": "code",
   "execution_count": 173,
   "id": "a9c587c3",
   "metadata": {},
   "outputs": [
    {
     "name": "stdout",
     "output_type": "stream",
     "text": [
      "ROC AUC test : 0.56499\n"
     ]
    }
   ],
   "source": [
    "print(\"ROC AUC test : {:.5f}\".format(roc_auc_score(y_test, test_predictions)))"
   ]
  }
 ],
 "metadata": {
  "kernelspec": {
   "display_name": "Python [conda env:project_4]",
   "language": "python",
   "name": "conda-env-project_4-py"
  },
  "language_info": {
   "codemirror_mode": {
    "name": "ipython",
    "version": 3
   },
   "file_extension": ".py",
   "mimetype": "text/x-python",
   "name": "python",
   "nbconvert_exporter": "python",
   "pygments_lexer": "ipython3",
   "version": "3.8.13"
  },
  "toc": {
   "base_numbering": 1,
   "nav_menu": {},
   "number_sections": false,
   "sideBar": true,
   "skip_h1_title": false,
   "title_cell": "Table of Contents",
   "title_sidebar": "Contents",
   "toc_cell": false,
   "toc_position": {
    "height": "569.6px",
    "left": "83px",
    "top": "110.325px",
    "width": "304.475px"
   },
   "toc_section_display": true,
   "toc_window_display": true
  }
 },
 "nbformat": 4,
 "nbformat_minor": 5
}
